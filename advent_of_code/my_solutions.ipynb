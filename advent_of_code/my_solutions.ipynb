{
 "cells": [
  {
   "cell_type": "markdown",
   "metadata": {},
   "source": [
    "## PROBLEM 1"
   ]
  },
  {
   "cell_type": "code",
   "execution_count": 30,
   "metadata": {},
   "outputs": [
    {
     "data": {
      "text/plain": [
       "52974"
      ]
     },
     "execution_count": 30,
     "metadata": {},
     "output_type": "execute_result"
    }
   ],
   "source": [
    "#1a)\n",
    "#Given a string of digits/letters you want to find the first and the last digit to form a number - then sum them all\n",
    "with open(\"problem1a.txt\", \"r\") as f:\n",
    "    input_1a = f.read().split(\"\\n\")\n",
    "\n",
    "def check_int(value):\n",
    "    try: \n",
    "        int(value)\n",
    "        return True\n",
    "    except:\n",
    "        return False\n",
    "\n",
    "sum = 0\n",
    "for line in input_1a:\n",
    "    numbers_list = [int(value) for value in line if check_int(value)]\n",
    "    sum += int(f\"{numbers_list[0]}{numbers_list[-1]}\")\n",
    "sum\n"
   ]
  },
  {
   "cell_type": "code",
   "execution_count": 64,
   "metadata": {},
   "outputs": [
    {
     "data": {
      "text/plain": [
       "53340"
      ]
     },
     "execution_count": 64,
     "metadata": {},
     "output_type": "execute_result"
    }
   ],
   "source": [
    "#1b)\n",
    "from word2number import w2n\n",
    "#There are some spelled numbers that need to be taken into account\n",
    "def find_numbers_in_line(line):\n",
    "    len_line = len(line)\n",
    "    numbers_list = []\n",
    "    for idx, value in enumerate(line):\n",
    "        if check_int(value):\n",
    "            numbers_list.append(int(value))\n",
    "        else:\n",
    "            for end_word_idx in range(idx,len_line+1):\n",
    "                #loop in the list to check if there are number spelled\n",
    "                try:\n",
    "                    word_number = w2n.word_to_num(line[idx:end_word_idx])\n",
    "                    numbers_list.extend([int(digit) for digit in str(word_number)])\n",
    "                except:\n",
    "                    pass\n",
    "    return numbers_list\n",
    "\n",
    "sum = 0\n",
    "for line in input_1a:\n",
    "    numbers_list = find_numbers_in_line(line)\n",
    "    sum += int(f\"{numbers_list[0]}{numbers_list[-1]}\")\n",
    "sum\n",
    "\n"
   ]
  },
  {
   "cell_type": "markdown",
   "metadata": {},
   "source": [
    "## PROBLEM 2"
   ]
  },
  {
   "cell_type": "code",
   "execution_count": null,
   "metadata": {},
   "outputs": [],
   "source": [
    "with open(\"problem2.txt\") as f:\n",
    "    input_2a = f.read().split(\"\\n\")"
   ]
  },
  {
   "cell_type": "code",
   "execution_count": null,
   "metadata": {},
   "outputs": [],
   "source": [
    "import regex as re"
   ]
  },
  {
   "cell_type": "code",
   "execution_count": null,
   "metadata": {},
   "outputs": [
    {
     "name": "stdout",
     "output_type": "stream",
     "text": [
      "1\n",
      "2\n",
      "3\n",
      "4\n",
      "5\n",
      "6\n",
      "7\n",
      "8\n",
      "9\n",
      "10\n",
      "11\n",
      "12\n",
      "13\n",
      "14\n",
      "15\n",
      "16\n",
      "17\n",
      "18\n",
      "19\n",
      "20\n",
      "21\n",
      "22\n",
      "23\n",
      "24\n",
      "25\n",
      "26\n",
      "27\n",
      "28\n",
      "29\n",
      "30\n",
      "31\n",
      "32\n",
      "33\n",
      "34\n",
      "35\n",
      "36\n",
      "37\n",
      "38\n",
      "39\n",
      "40\n",
      "41\n",
      "42\n",
      "43\n",
      "44\n",
      "45\n",
      "46\n",
      "47\n",
      "48\n",
      "49\n",
      "50\n",
      "51\n",
      "52\n",
      "53\n",
      "54\n",
      "55\n",
      "56\n",
      "57\n",
      "58\n",
      "59\n",
      "60\n",
      "61\n",
      "62\n",
      "63\n",
      "64\n",
      "65\n",
      "66\n",
      "67\n",
      "68\n",
      "69\n",
      "70\n",
      "71\n",
      "72\n",
      "73\n",
      "74\n",
      "75\n",
      "76\n",
      "77\n",
      "78\n",
      "79\n",
      "80\n",
      "81\n",
      "82\n",
      "83\n",
      "84\n",
      "85\n",
      "86\n",
      "87\n",
      "88\n",
      "89\n",
      "90\n",
      "91\n",
      "92\n",
      "93\n",
      "94\n",
      "95\n",
      "96\n",
      "97\n",
      "98\n",
      "99\n",
      "100\n"
     ]
    },
    {
     "data": {
      "text/plain": [
       "2283"
      ]
     },
     "metadata": {},
     "output_type": "display_data"
    }
   ],
   "source": [
    "max_red = 12\n",
    "max_green = 13\n",
    "max_blue = 14\n",
    "\n",
    "sum_sets =0\n",
    "for line in input_2a:\n",
    "    line_split = re.split(\"[:;]\",line)\n",
    "    number_set = int(str(line_split[0][4:]))\n",
    "    print(number_set)\n",
    "    for extraction in line_split[1:]:\n",
    "        extraction_list = re.split(\",\",extraction)\n",
    "        #print(extraction_list)\n",
    "        possible=True\n",
    "        for element in extraction_list:\n",
    "            if element.endswith(\"red\") and (int(element[1:-4])>max_red):\n",
    "                possible = False\n",
    "            elif element.endswith(\"blue\") and (int(element[1:-5])>max_blue):\n",
    "                possible = False\n",
    "            elif element.endswith(\"green\") and (int(element[1:-6])>max_green):\n",
    "                possible = False\n",
    "            else:\n",
    "                pass\n",
    "        if not possible:\n",
    "            #print(\"no\")\n",
    "            break\n",
    "    if possible:\n",
    "        sum_sets+= number_set\n",
    "        #print(number_set, \"good\")\n",
    "sum_sets\n",
    "\n",
    "\n"
   ]
  },
  {
   "cell_type": "code",
   "execution_count": null,
   "metadata": {},
   "outputs": [
    {
     "name": "stdout",
     "output_type": "stream",
     "text": [
      "1\n",
      "2\n",
      "3\n",
      "4\n",
      "5\n",
      "6\n",
      "7\n",
      "8\n",
      "9\n",
      "10\n",
      "11\n",
      "12\n",
      "13\n",
      "14\n",
      "15\n",
      "16\n",
      "17\n",
      "18\n",
      "19\n",
      "20\n",
      "21\n",
      "22\n",
      "23\n",
      "24\n",
      "25\n",
      "26\n",
      "27\n",
      "28\n",
      "29\n",
      "30\n",
      "31\n",
      "32\n",
      "33\n",
      "34\n",
      "35\n",
      "36\n",
      "37\n",
      "38\n",
      "39\n",
      "40\n",
      "41\n",
      "42\n",
      "43\n",
      "44\n",
      "45\n",
      "46\n",
      "47\n",
      "48\n",
      "49\n",
      "50\n",
      "51\n",
      "52\n",
      "53\n",
      "54\n",
      "55\n",
      "56\n",
      "57\n",
      "58\n",
      "59\n",
      "60\n",
      "61\n",
      "62\n",
      "63\n",
      "64\n",
      "65\n",
      "66\n",
      "67\n",
      "68\n",
      "69\n",
      "70\n",
      "71\n",
      "72\n",
      "73\n",
      "74\n",
      "75\n",
      "76\n",
      "77\n",
      "78\n",
      "79\n",
      "80\n",
      "81\n",
      "82\n",
      "83\n",
      "84\n",
      "85\n",
      "86\n",
      "87\n",
      "88\n",
      "89\n",
      "90\n",
      "91\n",
      "92\n",
      "93\n",
      "94\n",
      "95\n",
      "96\n",
      "97\n",
      "98\n",
      "99\n",
      "100\n"
     ]
    },
    {
     "data": {
      "text/plain": [
       "78669"
      ]
     },
     "metadata": {},
     "output_type": "display_data"
    }
   ],
   "source": [
    "\n",
    "sum_powersets =0\n",
    "for line in input_2a:\n",
    "    line_split = re.split(\"[:;]\",line)\n",
    "    number_set = int(str(line_split[0][4:]))\n",
    "    print(number_set)\n",
    "    max_blue=1\n",
    "    max_green=1\n",
    "    max_red=1\n",
    "    for extraction in line_split[1:]:\n",
    "        extraction_list = re.split(\",\",extraction)\n",
    "        #print(extraction_list)\n",
    "        for element in extraction_list:\n",
    "            if element.endswith(\"red\"):\n",
    "                max_red = max(max_red,int(element[1:-4]) )\n",
    "            elif element.endswith(\"blue\"):\n",
    "                max_blue = max(max_blue,int(element[1:-5]) )\n",
    "            elif element.endswith(\"green\"):\n",
    "                max_green = max(max_green,int(element[1:-6]) )\n",
    "            else:\n",
    "                pass\n",
    "\n",
    "    sum_powersets += max_green*max_blue*max_red\n",
    "\n",
    "        #print(number_set, \"good\")\n",
    "sum_powersets\n"
   ]
  },
  {
   "cell_type": "markdown",
   "metadata": {},
   "source": [
    "## PROBLEM 3"
   ]
  },
  {
   "cell_type": "code",
   "execution_count": null,
   "metadata": {},
   "outputs": [],
   "source": [
    "with open(\"problem3.txt\") as g:\n",
    "    input_3 = g.read().split(\"\\n\")"
   ]
  },
  {
   "cell_type": "code",
   "execution_count": null,
   "metadata": {},
   "outputs": [],
   "source": [
    "#ver os numeros que estao só têm dots a volta e contar os outros\n",
    "import numpy as np"
   ]
  },
  {
   "cell_type": "code",
   "execution_count": null,
   "metadata": {},
   "outputs": [],
   "source": [
    "yes_matrix = np.zeros((len(input_3[0]),len(input_3)))"
   ]
  },
  {
   "cell_type": "code",
   "execution_count": null,
   "metadata": {},
   "outputs": [],
   "source": [
    "yes = [[0]*len(input_3[0])]*len(input_3)"
   ]
  },
  {
   "cell_type": "code",
   "execution_count": null,
   "metadata": {},
   "outputs": [],
   "source": [
    "numbers_str = \"0123456789\""
   ]
  },
  {
   "cell_type": "code",
   "execution_count": null,
   "metadata": {},
   "outputs": [],
   "source": [
    "for i in range(len(input_3[0])):\n",
    "    for j in range(len(input_3)):\n",
    "        char = input_3[i][j]\n",
    "        if char!=\".\" and char not in numbers_str:\n",
    "            yes_matrix[max(i-1,0):min(i+1,len(input_3[0])),max(j-1,0):min(j+1,len(input_3))] += 1\n",
    "            "
   ]
  },
  {
   "cell_type": "code",
   "execution_count": null,
   "metadata": {},
   "outputs": [
    {
     "data": {
      "text/plain": [
       "['3', '94', '806', '596', '793', '186']"
      ]
     },
     "metadata": {},
     "output_type": "display_data"
    }
   ],
   "source": [
    "re.search(r'\\d+', input_3[0]).group()\n",
    "re.findall('[0-9]+', input_3[0])"
   ]
  },
  {
   "cell_type": "code",
   "execution_count": null,
   "metadata": {},
   "outputs": [
    {
     "data": {
      "text/plain": [
       "array([[0., 0., 1., ..., 0., 0., 0.],\n",
       "       [0., 0., 1., ..., 0., 0., 0.],\n",
       "       [0., 0., 0., ..., 0., 0., 0.],\n",
       "       ...,\n",
       "       [0., 0., 0., ..., 0., 0., 0.],\n",
       "       [0., 0., 0., ..., 0., 0., 0.],\n",
       "       [0., 0., 0., ..., 0., 0., 0.]])"
      ]
     },
     "metadata": {},
     "output_type": "display_data"
    }
   ],
   "source": [
    "for idx_row, line in enumerate(input_3):\n",
    "    for idx_col, char in enumerate(line):\n",
    "        if char in numbers_str\n"
   ]
  },
  {
   "cell_type": "code",
   "execution_count": null,
   "metadata": {},
   "outputs": [],
   "source": [
    "def find_numbers_with_positions(input_string):\n",
    "    pattern = re.compile(r'\\d+')\n",
    "    matches = pattern.finditer(input_string)\n",
    "\n",
    "    result = []\n",
    "\n",
    "    for match in matches:\n",
    "        start_pos = match.start()\n",
    "        end_pos = match.end()\n",
    "        number = match.group()\n",
    "        result.append({\n",
    "            'number': number,\n",
    "            'start_pos': start_pos,\n",
    "            'end_pos': end_pos\n",
    "        })\n",
    "\n",
    "    return result\n",
    "\n",
    "# Example usage:\n",
    "input_string = input_3[0]\n",
    "result = find_numbers_with_positions(input_string)"
   ]
  },
  {
   "cell_type": "code",
   "execution_count": null,
   "metadata": {},
   "outputs": [
    {
     "data": {
      "text/plain": [
       "[{'number': '3', 'start_pos': 25, 'end_pos': 26},\n",
       " {'number': '94', 'start_pos': 65, 'end_pos': 67},\n",
       " {'number': '806', 'start_pos': 82, 'end_pos': 85},\n",
       " {'number': '596', 'start_pos': 105, 'end_pos': 108},\n",
       " {'number': '793', 'start_pos': 117, 'end_pos': 120},\n",
       " {'number': '186', 'start_pos': 131, 'end_pos': 134}]"
      ]
     },
     "metadata": {},
     "output_type": "display_data"
    }
   ],
   "source": [
    "result"
   ]
  },
  {
   "cell_type": "code",
   "execution_count": null,
   "metadata": {},
   "outputs": [],
   "source": [
    "sum_numbers = 0\n",
    "for idx_row, line in enumerate(input_3):\n",
    "    numbers_found = find_numbers_with_positions(line)\n",
    "    for number_dct in numbers_found:\n",
    "        number = int(number_dct[\"number\"])\n",
    "        start_pos = number_dct[\"start_pos\"]\n",
    "        end_pos = number_dct[\"end_pos\"]\n",
    "\n",
    "        if yes_matrix[idx_row,start_pos:end_pos].sum()!=0:\n",
    "            sum_numbers+= number \n",
    "\n",
    "\n"
   ]
  },
  {
   "cell_type": "code",
   "execution_count": null,
   "metadata": {},
   "outputs": [
    {
     "data": {
      "text/plain": [
       "226283"
      ]
     },
     "metadata": {},
     "output_type": "display_data"
    }
   ],
   "source": [
    "sum_numbers"
   ]
  },
  {
   "cell_type": "code",
   "execution_count": null,
   "metadata": {},
   "outputs": [],
   "source": [
    "input_example =\"\"\"467..114..\n",
    "...*......\n",
    "..35..633.\n",
    "......#...\n",
    "617*......\n",
    ".....+.58.\n",
    "..592.....\n",
    "......755.\n",
    "...$.*....\n",
    ".664.598..\"\"\".split(\"\\n\")"
   ]
  },
  {
   "cell_type": "code",
   "execution_count": null,
   "metadata": {},
   "outputs": [
    {
     "data": {
      "text/plain": [
       "'467..114..'"
      ]
     },
     "metadata": {},
     "output_type": "display_data"
    }
   ],
   "source": [
    "input_example[0]"
   ]
  },
  {
   "cell_type": "code",
   "execution_count": null,
   "metadata": {},
   "outputs": [
    {
     "name": "stdout",
     "output_type": "stream",
     "text": [
      "*\n",
      "#\n",
      "*\n",
      "+\n",
      "$\n",
      "*\n"
     ]
    }
   ],
   "source": [
    "yes_matrix_ex = np.zeros((len(input_example),len(input_example[0])))\n",
    "for i in range(len(input_example)):\n",
    "    for j in range(len(input_example[0])):\n",
    "        char = input_example[i][j]\n",
    "        if not (char.isdigit() or char == '.'):\n",
    "            print(char)\n",
    "            yes_matrix_ex[max(i-1,0):min(i+2,len(input_example)),max(j-1,0):min(j+2,len(input_example[0]))] += 1"
   ]
  },
  {
   "cell_type": "code",
   "execution_count": null,
   "metadata": {},
   "outputs": [],
   "source": []
  },
  {
   "cell_type": "code",
   "execution_count": null,
   "metadata": {},
   "outputs": [
    {
     "data": {
      "text/plain": [
       "550064"
      ]
     },
     "metadata": {},
     "output_type": "display_data"
    }
   ],
   "source": [
    "sum_numbers = 0\n",
    "for idx_row, line in enumerate(input_3):\n",
    "    numbers_found = find_numbers_with_positions(line)\n",
    "    for number_dct in numbers_found:\n",
    "        number = int(number_dct[\"number\"])\n",
    "        start_pos = number_dct[\"start_pos\"]\n",
    "        end_pos = number_dct[\"end_pos\"]\n",
    "\n",
    "        if yes_matrix[idx_row,start_pos:end_pos].sum()!=0:\n",
    "            sum_numbers+= number \n",
    "sum_numbers"
   ]
  },
  {
   "cell_type": "code",
   "execution_count": null,
   "metadata": {},
   "outputs": [],
   "source": [
    "def find_non_dot_non_number_positions(matrix):\n",
    "    rows = len(matrix)\n",
    "    cols = len(matrix[0])\n",
    "    non_dot_non_number_positions = []\n",
    "\n",
    "    for row in range(rows):\n",
    "        for col in range(cols):\n",
    "            char = matrix[row][col]\n",
    "            if not (char.isdigit() or char == '.'):\n",
    "                non_dot_non_number_positions.append((row, col))\n",
    "\n",
    "    return non_dot_non_number_positions"
   ]
  },
  {
   "cell_type": "code",
   "execution_count": null,
   "metadata": {},
   "outputs": [],
   "source": [
    "positions_list = find_non_dot_non_number_positions(input_3)"
   ]
  },
  {
   "cell_type": "code",
   "execution_count": null,
   "metadata": {},
   "outputs": [
    {
     "data": {
      "text/plain": [
       "85010461"
      ]
     },
     "metadata": {},
     "output_type": "display_data"
    }
   ],
   "source": [
    "result = 0\n",
    "for pos in positions_list:\n",
    "    numbers_available = []\n",
    "    for row in range(max(pos[0]-1,0),min(pos[0]+2,len(input_3))):\n",
    "        candidate_number = find_numbers_with_positions(input_3[row])\n",
    "        for numb_dct in candidate_number: #check in the list of numbers in the line\n",
    "            number = int(numb_dct[\"number\"])\n",
    "            start_pos = numb_dct[\"start_pos\"]\n",
    "            end_pos = numb_dct[\"end_pos\"]\n",
    "            if start_pos-1<=pos[1]<=end_pos:\n",
    "                numbers_available.append(number)\n",
    "    if len(numbers_available)==2:\n",
    "        result+= numbers_available[0]*numbers_available[1]\n",
    "result\n",
    "        \n",
    "\n",
    "    "
   ]
  },
  {
   "cell_type": "markdown",
   "metadata": {},
   "source": [
    "### 3b"
   ]
  },
  {
   "cell_type": "code",
   "execution_count": null,
   "metadata": {},
   "outputs": [
    {
     "name": "stdout",
     "output_type": "stream",
     "text": [
      "*\n",
      "*\n",
      "*\n"
     ]
    }
   ],
   "source": [
    "yes_matrix_ex = np.zeros((len(input_example),len(input_example[0])))\n",
    "for i in range(len(input_example)):\n",
    "    for j in range(len(input_example[0])):\n",
    "        char = input_example[i][j]\n",
    "        if char==\"*\":\n",
    "            print(char)\n",
    "            yes_matrix_ex[max(i-1,0):min(i+2,len(input_example)),max(j-1,0):min(j+2,len(input_example[0]))] += 1"
   ]
  },
  {
   "cell_type": "code",
   "execution_count": null,
   "metadata": {},
   "outputs": [],
   "source": [
    "sum_numbers = 0\n",
    "for idx_row, line in enumerate(input_3):\n",
    "    numbers_found = find_numbers_with_positions(line)\n",
    "    for number_dct in numbers_found:\n",
    "        number = int(number_dct[\"number\"])\n",
    "        start_pos = number_dct[\"start_pos\"]\n",
    "        end_pos = number_dct[\"end_pos\"]\n",
    "\n",
    "        if yes_matrix[idx_row,start_pos:end_pos].sum()!=0:\n",
    "            sum_numbers+= number \n",
    "sum_numbers"
   ]
  },
  {
   "cell_type": "markdown",
   "metadata": {},
   "source": [
    "## PROBLEM 4"
   ]
  },
  {
   "cell_type": "markdown",
   "metadata": {},
   "source": []
  },
  {
   "cell_type": "code",
   "execution_count": 1,
   "metadata": {},
   "outputs": [],
   "source": [
    "with open(\"problem4.txt\", \"r\") as g:\n",
    "    input4 = g.read().split(\"\\n\")"
   ]
  },
  {
   "cell_type": "code",
   "execution_count": 2,
   "metadata": {},
   "outputs": [],
   "source": [
    "import regex as re"
   ]
  },
  {
   "cell_type": "code",
   "execution_count": 58,
   "metadata": {},
   "outputs": [
    {
     "data": {
      "text/plain": [
       "26346"
      ]
     },
     "execution_count": 58,
     "metadata": {},
     "output_type": "execute_result"
    }
   ],
   "source": [
    "total_points = 0\n",
    "for line in input4:\n",
    "    card_split = re.split(\"[|:]\",line)\n",
    "    winners =  re.findall('[0-9]+', card_split[1])\n",
    "    candidates =  re.findall('[0-9]+', card_split[2])\n",
    "    nr_matches = len([c for c in candidates if c in winners])\n",
    "    \n",
    "    total_points += 2**(nr_matches-1) if nr_matches > 0 else 0\n",
    "\n",
    "total_points\n"
   ]
  },
  {
   "cell_type": "code",
   "execution_count": 66,
   "metadata": {},
   "outputs": [
    {
     "data": {
      "text/plain": [
       "8467762"
      ]
     },
     "execution_count": 66,
     "metadata": {},
     "output_type": "execute_result"
    }
   ],
   "source": [
    "numbers_lst = [1 for num in range(1,len(input4)+1)]\n",
    "for idx, line in enumerate(input4): #idx for the list but idx + 1 for the number\n",
    "    card_split = re.split(\"[|:]\",line)\n",
    "    winners =  re.findall('[0-9]+', card_split[1])\n",
    "    candidates =  re.findall('[0-9]+', card_split[2])\n",
    "    nr_matches = len([c for c in candidates if c in winners])\n",
    "\n",
    "    #add the cards to each number\n",
    "    numbers_lst[idx+1:idx+nr_matches+1]=[x+ numbers_lst[idx] for x in numbers_lst[idx+1:idx+nr_matches+1]]\n",
    "\n",
    "sum(numbers_lst)   "
   ]
  },
  {
   "cell_type": "code",
   "execution_count": null,
   "metadata": {},
   "outputs": [],
   "source": []
  },
  {
   "cell_type": "markdown",
   "metadata": {},
   "source": [
    "## PROBLEM 5"
   ]
  },
  {
   "cell_type": "code",
   "execution_count": 35,
   "metadata": {},
   "outputs": [],
   "source": [
    "with open(\"problem5.txt\", \"r\") as g:\n",
    "    input5 = g.read().split(\"\\n\")"
   ]
  },
  {
   "cell_type": "code",
   "execution_count": 22,
   "metadata": {},
   "outputs": [
    {
     "data": {
      "text/plain": [
       "251346198"
      ]
     },
     "execution_count": 22,
     "metadata": {},
     "output_type": "execute_result"
    }
   ],
   "source": [
    "seeds =  re.findall('[0-9]+', input5[0])\n",
    "progress_numbers = [int(seed) for seed in seeds]\n",
    "for idx in range(len(progress_numbers)):    \n",
    "    for line in input5[2:]:\n",
    "        if line.endswith(\"map:\") or line == \"\":\n",
    "            map_check = False\n",
    "            continue\n",
    "        else:\n",
    "            if map_check: #if there was already a map done here continue\n",
    "                continue\n",
    "            codes = re.findall('[0-9]+', line)\n",
    "            begin = int(codes[1])\n",
    "            steps = int(codes[-1])\n",
    "            if begin <= progress_numbers[idx] <= begin + steps:\n",
    "                map_check=True\n",
    "                progress_numbers[idx] -= begin\n",
    "                progress_numbers[idx]+= int(codes[0])\n",
    "                 \n",
    "min(progress_numbers)\n",
    "#progress_numbers\n"
   ]
  },
  {
   "cell_type": "code",
   "execution_count": 28,
   "metadata": {},
   "outputs": [],
   "source": [
    "# new_seeds = []\n",
    "# for idx in range(0,len(seeds),2):\n",
    "#     new_seeds+= list(range(int(seeds[idx]),int(seeds[idx])+int(seeds[idx+1])))\n"
   ]
  },
  {
   "cell_type": "code",
   "execution_count": 51,
   "metadata": {},
   "outputs": [],
   "source": [
    "input5_ex1 = \"\"\"\n",
    "seeds: 79 14 55 13\n",
    "\n",
    "seed-to-soil map:\n",
    "50 98 2\n",
    "52 50 48\n",
    "\n",
    "soil-to-fertilizer map:\n",
    "0 15 37\n",
    "37 52 2\n",
    "39 0 15\n",
    "\n",
    "fertilizer-to-water map:\n",
    "49 53 8\n",
    "0 11 42\n",
    "42 0 7\n",
    "57 7 4\n",
    "\n",
    "water-to-light map:\n",
    "88 18 7\n",
    "18 25 70\n",
    "\n",
    "light-to-temperature map:\n",
    "45 77 23\n",
    "81 45 19\n",
    "68 64 13\n",
    "\n",
    "temperature-to-humidity map:\n",
    "0 69 1\n",
    "1 0 69\n",
    "\n",
    "humidity-to-location map:\n",
    "60 56 37\n",
    "56 93 4\n",
    "\"\"\".split(\"\\n\")"
   ]
  },
  {
   "cell_type": "code",
   "execution_count": 58,
   "metadata": {},
   "outputs": [],
   "source": [
    "input5_ex_format = {}\n",
    "idx=-1\n",
    "for line in input5_ex[2:]:\n",
    "    if line == \"\":\n",
    "        continue\n",
    "    elif \"map\" in line:\n",
    "        idx+=1\n",
    "        input5_ex_format.setdefault(idx,[]).append(line)\n",
    "    else:\n",
    "        input5_ex_format[idx].append(line)\n",
    "\n"
   ]
  },
  {
   "cell_type": "code",
   "execution_count": 100,
   "metadata": {},
   "outputs": [],
   "source": [
    "input5_format = {}\n",
    "idx=-1\n",
    "for line in input5[2:]:\n",
    "    if line == \"\":\n",
    "        continue\n",
    "    elif \"map\" in line:\n",
    "        idx+=1\n",
    "        input5_format.setdefault(idx,[]).append(line)\n",
    "    else:\n",
    "        input5_format[idx].append(line)"
   ]
  },
  {
   "cell_type": "code",
   "execution_count": 112,
   "metadata": {},
   "outputs": [
    {
     "name": "stdout",
     "output_type": "stream",
     "text": [
      "[-1, -1, 1422440538, 53227319, -1, -1, -1, -1, -1, -1, 2393721113, 50644329, -1, -1, -1, -1, 3657192602, 267233350, 3255327828, 60179884, 1475667857, 41320497, 1659193506, 103506197, -1, -1, 1762699703, 33280161, 1138929546, 13019867, 1258939826, 41172751, 1014896382, 55099183, 1949144352, 125726128, 2661775316, 34690319, 2196573512, 123856257, 376985501, 3501996, 4077797723, 27940277, -1, -1, 979719552, 16067978, -1, -1, 88123474, 182655004, 380487498, 52689449, 433176948, 6166388, 1795979865, 107598549, 3048538269, 104068221, -1, -1, 3152606491, 14482311, 3932455534, 114636801, 2741466045, 159726711, 1475667857, 1, 719122511, 260597040, 1306767946, 56969663, -1, -1, -1, -1, 1, 29701496, 2132612482, 1962964, 2196573512, 1, 1923844929, 421467, -1, -1, 88123474, 1, 1384488118, 4989470, 621185913, 70729595, 1516988355, 127908795, 4077797723, 1, -1, -1, 4105738000, 189229296, 2696465636, 32694365]\n",
      "[-1, -1, 3587561318, 53227319, -1, -1, -1, -1, -1, -1, 1061744437, 50644329, -1, -1, -1, -1, -1, -1, 2711186259, 60179884, 3640788637, 41320497, -1, -1, -1, -1, 943563169, 33280161, 3859824949, 13019867, 399429526, 41172751, 1852791997, 34097684, 3455937104, 115210901, 1376015200, 1071447, 129325714, 123856257, 1727587970, 3501996, 4032998877, 27940277, -1, -1, 1817615167, 16067978, -1, -1, -1, -1, 1731089967, 52689449, 1783779417, 6166388, -1, -1, 2504396700, 104068221, -1, -1, 2608464922, 14482311, -1, -1, -1, -1, 3640788637, 1, -1, -1, 447257646, 51244857, -1, -1, -1, -1, 1, 29701496, 1456525934, 1962964, 129325714, 1, 3430637681, 421467, -1, -1, 2136144652, 1, 65758825, 4989470, 673919571, 70729595, 3682109135, 127908795, 4032998877, 1, -1, -1, 4060939154, 189229296, 3299852209, 32694365, 2175877891, 96544159, 1228234245, 88317009, 3234462328, 31771008, 3824314286, 21220888, 1377086648, 21001499, 3939933687, 10515227, 3266233337, 33618872, 1478459182, 142921765, 2136144652, 39733239, 3367678481, 42692685, 976843331, 64905864, 1966430612, 49187338, 4287520304, 7446992, 852357580, 40691288, -1, -1, 1796371314, 21243852, -1, -1, 39283511, 5724806, 4265449360, 14041363, -1, -1, 893048869, 50514301, -1, -1, 2330424522, 26626666, 2017721794, 69582894, 3344852618, 22825863, 3155151482, 79310846, 771856169, 80501411, 2175877891, 1, 291197165, 68330818, 1966430612, 1, 2272422051, 58002470, -1, -1, 1796371314, 1, 1886889682, 79540930]\n",
      "[-1, -1, 3200396726, 53227319, -1, -1, -1, -1, -1, -1, 1663812794, 50644329, -1, -1, -1, -1, -1, -1, 987333833, 21900721, 3253624045, 41320497, -1, -1, -1, -1, 1545631526, 33280161, 3554481387, 13019867, 116573020, 7736671, 2454860354, 34097684, 3068772512, 115210901, 1978083557, 1071447, 154586204, 123856257, 2329656327, 3501996, 3727655315, 27940277, -1, -1, 2419683524, 16067978, -1, -1, -1, -1, 2333158324, 52689449, 2385847774, 6166388, -1, -1, 780544274, 104068221, -1, -1, 884612496, 14482311, -1, -1, -1, -1, 3253624045, 1, -1, -1, 1049326003, 51244857, -1, -1, -1, -1, 1, 29701496, 2058594291, 1962964, 154586204, 1, 3043473089, 421467, -1, -1, 412292226, 1, 65758825, 4989470, 1275987928, 70729595, 3294944543, 127908795, 3727655315, 1, -1, -1, -1, -1, 4250004661, 32694365, 452025465, 96544159, 1830302602, 88317009, 4184614780, 31771008, 3437149694, 5617965, 1979155005, 21001499, 3634590125, 10515227, 4216385789, 33618872, 2080527539, 142921765, 412292226, 39733239, 2980513889, 42692685, 1578911688, 64905864, 2568498969, 49187338, 3517141697, 7446992, 1454425937, 40691288, -1, -1, 2398439671, 21243852, -1, -1, 39283511, 5724806, 3495070753, 14041363, -1, -1, 1495117226, 50514301, -1, -1, 606572096, 26626666, 2619790151, 69582894, 2957688026, 22825863, 4105303934, 79310846, 1373924526, 80501411, 452025465, 1, 316457655, 68330818, 2568498969, 1, 548569625, 58002470, -1, -1, 2398439671, 1, 2488958039, 79540930, 2733086981, 38279163, 1009234555, 33436080, 3442767659, 37022184, 3755595592, 152207112, 3524588690, 15602923]\n",
      "[-1, -1, 1825603311, 53227319, -1, -1, -1, -1, -1, -1, 400098781, 50644329, -1, -1, -1, -1, -1, -1, 122848114, 21900721, 1878830630, 41320497, -1, -1, -1, -1, 3776850833, 33280161, 3015372440, 13019867, 2709427045, 7736671, 1531978445, 34097684, -1, -1, 2553557794, 1071447, -1, -1, 1406774418, 3501996, 3194087126, 27940277, -1, -1, 1496801615, 16067978, -1, -1, -1, -1, 1410276415, 52689449, 1462965865, 6166388, -1, -1, -1, -1, -1, -1, 925092639, 14482311, -1, -1, -1, -1, 1878830630, 1, -1, -1, 184840284, 51244857, -1, -1, -1, -1, 2592854026, 29701496, 3366151845, 1962964, 3391220436, 1, 3673473910, 421467, -1, -1, 2260169558, 1, 2658612850, 4989470, 732585530, 70729595, -1, -1, 3194087126, 1, -1, -1, -1, -1, 4202355107, 32694365, 2299902797, 96544159, 566588589, 88317009, 4136965226, 31771008, 1169769771, 5617965, 2554629242, 21001499, 3095481178, 10515227, 4168736235, 33618872, -1, -1, 2260169558, 39733239, 1057750190, 14142460, -1, -1, 1645617060, 49187338, 2978032750, 7446992, 911023539, 13067409, -1, -1, 1475557762, 21243852, -1, -1, 2632137536, 5724806, 2955961806, 14041363, -1, -1, 3726336533, 50514301, -1, -1, 2454449428, 26626666, -1, -1, 1034924327, 22825863, 4057654380, 79310846, 830522128, 80501411, 2299902797, 1, 2164334987, 68330818, 1645617060, 1, 2396446957, 58002470, -1, -1, 1475557762, 1, 1566076130, 79540930, 3434536011, 38279163, 144748836, 33436080, 1175387736, 35778034, 3222027403, 102909939, 2985479743, 15602923, 1211165770, 29445944, 3183202111, 5480078, 2022159128, 104160665, 3391220436, 19695592, 924090948, 1001690, 2836370215, 103066531, 1129572620, 25900795, 1920151128, 102008000, 1240611714, 59955681, 12512495, 82966084, 3624657171, 28550225, 363572211, 16531328, 3810130995, 48374536, 3698712654, 27623879, 1071892650, 37586017, 1696908242, 31996877, 2939436747, 1244150, 3858505532, 49297173, 1728905120, 80284879]\n",
      "[-1, -1, 2238792171, 53227319, -1, -1, -1, -1, -1, -1, 1044630080, 50644329, -1, -1, -1, -1, -1, -1, 652838790, 21900721, -1, -1, -1, -1, -1, -1, 4056765417, 33280161, 1784551395, 13019867, 3098058785, 7736671, 4278429675, 16537621, -1, -1, 2942189534, 1071447, -1, -1, 1406774418, 3501996, 1529890213, 27940277, -1, -1, 1496801615, 16067978, -1, -1, -1, -1, 1410276415, 52689449, 1462965865, 6166388, -1, -1, -1, -1, -1, -1, -1, -1, -1, -1, -1, -1, 2292019490, 1, -1, -1, 714830960, 51244857, -1, -1, -1, -1, 2981485766, 29701496, 1701954932, 1962964, 1727023523, 1, 3953388494, 421467, -1, -1, 2648801298, 1, 3047244590, 4989470, 1377116829, 4749821, -1, -1, 1529890213, 1, -1, -1, -1, -1, 3693020993, 32694365, 2688534537, 96544159, 1211119888, 88317009, 3627631112, 31771008, 485051420, 5617965, 2943260982, 21001499, 1864660133, 10515227, 3659402121, 33618872, -1, -1, 2648801298, 39733239, 83227890, 14142460, -1, -1, 2058805920, 49187338, 1747211705, 7446992, 810377900, 13067409, -1, -1, 1475557762, 21243852, -1, -1, 3020769276, 5724806, 3344593546, 14041363, -1, -1, 4006251117, 50514301, -1, -1, 2843081168, 26626666, -1, -1, 60402027, 22825863, 3548320266, 79310846, -1, -1, 2688534537, 1, -1, -1, 2058805920, 1, 2785078697, 58002470, -1, -1, 1475557762, 1, 1979264990, 79540930, 2495578064, 38279163, 674739512, 33436080, 490669385, 35778034, 1557830490, 102909939, 1754658698, 15602923, 526447419, 3543257, 1952381066, 5480078, 4218658075, 56122213, 1727023523, 12784450, 823445309, 1001690, 3225001955, 103066531, 155050320, 25900795, -1, -1, -1, -1, 542503171, 82966084, 3904571755, 28550225, 1008103510, 16531328, 4090045579, 48374536, 3978627238, 27623879, 97370350, 37586017, 2110097102, 31996877, 3328068487, 1244150, -1, -1, 2142093980, 67281830, 2424714410, 8473147, 2292019490, 32847350, 1961704927, 17560063, 856886372, 2642148, 824447000, 5193090, 375094278, 65979774, 188336830, 56107278, 468281054, 9859725, 2566760651, 54536894, 2410920486, 13793924, 1, 25902687, 2324866841, 48038452, 2465046940, 6911142, 4148509456, 70148619, 2433187558, 31859381, 244444108, 26285063, 25902687, 33670618, 3359260758, 39207833, 4138420116, 10089340, 2209375811, 13003049, -1, -1, 795843493, 14534408, 856886372, 1, 368447205, 6647072]\n",
      "[-1, -1, 3018685232, 53227319, -1, -1, -1, -1, -1, -1, -1, -1, -1, -1, -1, -1, -1, -1, -1, -1, -1, -1, -1, -1, -1, -1, 1282735538, 33280161, 4141371958, 13019867, 3104806028, 7736671, 3860266581, 8878467, -1, -1, 3505727259, 1071447, -1, -1, 1598270325, 3501996, 1721386120, 17545325, -1, -1, 1688297522, 16067978, -1, -1, -1, -1, 1601772322, 52689449, 1654461772, 6166388, -1, -1, -1, -1, -1, -1, -1, -1, -1, -1, -1, -1, 3071912551, 1, -1, -1, 523993722, 51244857, -1, -1, -1, -1, 3545023491, 29701496, 4058775495, 1962964, 4083844086, 1, 1179358615, 421467, -1, -1, 2397156355, 1, 3610782315, 4989470, 1568612736, 4749821, -1, -1, 1721386120, 1, -1, -1, -1, -1, 2506953973, 32694365, 2436889594, 30324134, 1402615795, 88317009, -1, -1, 86473941, 5617965, 3506798707, 21001499, 4221480696, 10515227, 2473335101, 33618872, -1, -1, 2397156355, 39733239, -1, -1, -1, -1, 2838698981, 49187338, 4104032268, 7446992, 619540662, 13067409, -1, -1, 1667053669, 21243852, -1, -1, 3584307001, 5724806, 3351340789, 14041363, -1, -1, 1232221238, 50514301, -1, -1, -1, -1, -1, -1, 217933280, 22825863, 2634730469, 79310846, -1, -1, 2436889594, 1, -1, -1, 2838698981, 1, 3895808791, 58002470, -1, -1, 1667053669, 1, 2759158051, 79540930, 2168265674, 38279163, 450696365, 11163134, 92091906, 35778034, -1, -1, 4111479261, 15602923, 127869940, 3543257, 2327521950, 5480078, 3800494981, 56122213, 4083844086, 12784450, 632608071, 1001690, 3231749198, 103066531, 336481387, 15883934, -1, -1, -1, -1, 143925692, 13605561, 1130541876, 28550225, 726221684, 6844066, 1316015700, 48374536, 1204597359, 27623879, 278801417, 37586017, 2889990163, 31996877, 3334815730, 1244150, -1, -1, 2921987041, 67281830, 2097402020, 8473147, 3071912551, 31329356, 2741597988, 17560063, 954297377, 2642148, 633609762, 5193090, -1, -1, -1, -1, 69703575, 9859725, -1, -1, 2083608096, 13793924, 157531254, 25902687, 1854097230, 48038452, 2137734550, 6911142, 3730346362, 70148619, 2105875168, 31859381, 401975361, 23140776, 183433940, 33670618, 3366008001, 39207833, -1, -1, 2989268872, 13003049, -1, -1, 605006255, 14534408, 954297377, 1, 904043557, 6647072, 733065750, 45230417, 807978671, 557885, 446537472, 4158892, 1072676553, 17741829, 1927965418, 7659153, 1790076882, 10394952, 3692292914, 37700450, 2467213728, 6121372, 2714041315, 25649636, 272165118, 6636299, 240759143, 7506161, 1738931445, 15637256, 3953811262, 10989410, 495065409, 22272946, 3966758455, 50802537, 1800471833, 52107402, 248265305, 10016861, 975946496, 69360523, 778296168, 9687262, 1852579236, 1517994, 0, 42496573, 910690630, 23483201, 352365321, 49610040, 265667880, 6497238, 2334938774, 34713828, 2239448261, 19823066, 425116138, 3144287, 3729993364, 352998, 1364390237, 9736342, 1090418383, 4856027, 4294967297, 1, -1, -1, 3869145048, 26663744, 3466897908, 1855831]\n",
      "[-1, -1, 767416975, 53227319, -1, -1, -1, -1, -1, -1, -1, -1, -1, -1, -1, -1, -1, -1, -1, -1, -1, -1, -1, -1, -1, -1, -1, -1, 4071917242, 13019867, 853537771, 7736671, -1, -1, -1, -1, 1762824436, 1071447, -1, -1, 2591030530, 3501996, 184903631, 17545325, -1, -1, 151815033, 16067978, -1, -1, -1, -1, -1, -1, 117979283, 6166388, -1, -1, -1, -1, -1, -1, -1, -1, -1, -1, -1, -1, 820644294, 1, -1, -1, 1333548409, 8295889, -1, -1, -1, -1, 1802120668, 29701496, 3989320779, 1962964, 4014389370, 1, 1565325845, 421467, -1, -1, 3115322371, 1, 3177789452, 4989470, 2561372941, 4749821, -1, -1, 184903631, 1, -1, -1, -1, -1, 3343434597, 32694365, 3155055610, 10146181, 2395376000, 88317009, -1, -1, -1, -1, 1763895884, 21001499, 4152025980, 10515227, 3309815725, 33618872, -1, -1, 3115322371, 39733239, -1, -1, -1, -1, -1, -1, 4034577552, 7446992, 346147612, 13067409, -1, -1, 130571180, 21243852, -1, -1, 1841404178, 5724806, 1868619084, 14041363, -1, -1, -1, -1, -1, -1, -1, -1, -1, -1, 1471140253, 22825863, 3398948082, 55821523, -1, -1, 3155055610, 1, -1, -1, 1168473538, 1, 4259326640, 35640656, -1, -1, 130571180, 1, 1088932608, 79540930, 2886431690, 38279163, 1260251052, 11163134, 1345298879, 35778034, -1, -1, 4042024545, 15602923, 1381076913, 3543257, 3045687966, 5480078, 3800494981, 56122213, 4014389370, 12784450, 359215021, 1001690, -1, -1, 3733469716, 15883934, -1, -1, -1, -1, 1397132665, 13605561, 2014236267, 25718301, 452828634, 6844066, 2308775905, 48374536, 1590564589, 27623879, -1, -1, 638721906, 31996877, 1237755046, 1244150, -1, -1, 670718784, 67281830, 2815568036, 8473147, 820644294, 31329356, 1071372545, 17560063, 2759732258, 2642148, 360216712, 5193090, -1, -1, -1, -1, 3533819201, 9859725, -1, -1, -1, -1, 1410738227, 25902687, 2114110492, 48038452, 2855900566, 6911142, 3639914771, 41364974, 2824041184, 31859381, -1, -1, 1436640913, 33670618, 1883286296, 39207833, -1, -1, 738000615, 13003049, -1, -1, 331613205, 14534408, 2759732258, 1, 2709478438, 6647072, 459672700, 45230417, 2613413552, 557885, 1256092159, 4158892, -1, -1, 2187978680, 7659153, 2050090144, 10394952, 3601861323, 37700450, 3303694352, 6121372, -1, -1, 2779584121, 6636299, 1493966116, 7506161, 202448956, 15637256, 3884356546, 10989410, 1304620096, 5100166, 3897303739, 50802537, 2060485095, 52107402, 1501472278, 10016861, 978153429, 69360523, 504903118, 9687262, 2112592498, 1517994, 1514000396, 28227011, 2716125511, 23483201, 3749353650, 22357686, 2773086883, 6497238, 3053104790, 34713828, 2957614277, 19823066, 1961694970, 3144287, 3639561773, 352998, 2357150442, 9736342, 1974112774, 4856027, 4294967297, 1, -1, -1, 4232662897, 26663744, 1723995085, 1855831, 2297594568, 11181336, 1668702768, 22098825, 4225512580, 7150317, 3860266581, 1728150, 72263011, 45716271, 2594532527, 6973178, 258896562, 42948968, 3283516400, 20177953, 1341844298, 3454581, 3550589567, 2163384, 614836670, 21781392, 1168473538, 27405946, 1654967093, 13735676, 1618188468, 36778625, 2255175316, 23489323, 3861994732, 22361814, 3210191679, 73324720, 3466530180, 25812457, 1542227408, 2831924, 3695056291, 18319472, 2786220420, 19266545, 2805486965, 10081071, 611123817, 3712853, 3771711337, 28783645, 1950982711, 10712258, 1221397173, 12428518, 1967976997, 6135776, -1, -1, 960734175, 4250303, 2278664638, 18929930, 1309720263, 17172780, 3492342638, 14269562, -1, -1, 1233825692, 3929354, 1195879484, 4055690, 251346198, 7550363, 1066996106, 2469403, 1199935174, 21462000, 3689265937, 5790354]\n"
     ]
    },
    {
     "data": {
      "text/plain": [
       "72263011"
      ]
     },
     "execution_count": 112,
     "metadata": {},
     "output_type": "execute_result"
    }
   ],
   "source": [
    "seeds =  re.findall('[0-9]+', input5[0])\n",
    "progress_numbers = [int(seed) for seed in seeds]\n",
    "for map_list in input5_format.values():\n",
    "\n",
    "    def fix_point_per_map(progress_numbers):\n",
    "        extra_numbers = []\n",
    "        for idx in range(len(progress_numbers)):\n",
    "            if idx%2==1:\n",
    "                continue\n",
    "            if progress_numbers[idx]<0:\n",
    "                continue\n",
    "            map_check = False    \n",
    "            for line in map_list[1:]:\n",
    "                if map_check:\n",
    "                    continue\n",
    "                else:\n",
    "                    codes = re.findall('[0-9]+', line)\n",
    "                    begin = int(codes[1])\n",
    "                    steps = int(codes[-1])\n",
    "                    # print(begin,progress_numbers[idx],begin + steps,progress_numbers[idx]+progress_numbers[idx+1])\n",
    "                    \n",
    "                    if begin <= progress_numbers[idx] <= begin + steps:\n",
    "\n",
    "                        difference = progress_numbers[idx]+progress_numbers[idx+1] - begin - steps\n",
    "                        if difference > 0:\n",
    "                            progress_numbers[idx+1] = begin + steps - progress_numbers[idx] #update the range\n",
    "                            extra_numbers.extend([begin + steps+1,difference])\n",
    "\n",
    "                        map_check=True\n",
    "                        progress_numbers[idx] -= begin\n",
    "                        progress_numbers[idx]+= int(codes[0])\n",
    "                        break\n",
    "\n",
    "                        #fica a mesma diferenca\n",
    "                    \n",
    "                    elif progress_numbers[idx] < begin:\n",
    "                        if progress_numbers[idx] + progress_numbers[idx+1] - begin > 0:\n",
    "                            \n",
    "                            extra_numbers.extend([begin, progress_numbers[idx] + progress_numbers[idx+1] - begin])\n",
    "                            extra_numbers.extend([progress_numbers[idx], begin - progress_numbers[idx]])\n",
    "                            \n",
    "                            progress_numbers[idx] = -1\n",
    "                            progress_numbers[idx+1] = -1\n",
    "                            map_check = True\n",
    "\n",
    "                        continue\n",
    "                    else:\n",
    "                        continue\n",
    "\n",
    "\n",
    "        #print(progress_numbers)\n",
    "        # print(extra_numbers)\n",
    "        return  progress_numbers, extra_numbers\n",
    "    \n",
    "    extra_numbers = progress_numbers.copy()\n",
    "    \n",
    "    full_list = []\n",
    "    while len(extra_numbers)!=0:\n",
    "        new_numbers, extra_numbers = fix_point_per_map(extra_numbers)\n",
    "        full_list.extend(new_numbers)\n",
    "    \n",
    "    progress_numbers = full_list.copy()\n",
    "    print(progress_numbers)\n",
    "min(list(filter(lambda x: x !=-1,progress_numbers))[::2])"
   ]
  },
  {
   "cell_type": "markdown",
   "metadata": {},
   "source": [
    "## PROBLEM 6"
   ]
  },
  {
   "cell_type": "code",
   "execution_count": 113,
   "metadata": {},
   "outputs": [],
   "source": [
    "with open(\"problem6.txt\",\"r\") as f:\n",
    "    input_6 = f.read().split(\"\\n\")"
   ]
  },
  {
   "cell_type": "code",
   "execution_count": 121,
   "metadata": {},
   "outputs": [],
   "source": [
    "import numpy as np\n",
    "import math"
   ]
  },
  {
   "cell_type": "code",
   "execution_count": 135,
   "metadata": {},
   "outputs": [
    {
     "name": "stdout",
     "output_type": "stream",
     "text": [
      "12 47 36\n",
      "23 45 23\n",
      "37 45 9\n",
      "19 55 37\n"
     ]
    },
    {
     "data": {
      "text/plain": [
       "275724"
      ]
     },
     "execution_count": 135,
     "metadata": {},
     "output_type": "execute_result"
    }
   ],
   "source": [
    "times = [ int(time) for time in  re.findall('[0-9]+', input_6[0])]\n",
    "distances =  [ int(distance) for distance in  re.findall('[0-9]+', input_6[1])]\n",
    "solutions = [0 for idx in range(len(times))]\n",
    "for idx in range(len(times)):\n",
    "    time = times[idx]\n",
    "    distance = distances[idx]\n",
    "    sol1 = int((time - math.sqrt(time**2-4*distance))/2)+1\n",
    "    sol2 = int((time + math.sqrt(time**2-4*distance))/2)\n",
    "    print(sol1,sol2,len(range(sol1,sol2+1)))\n",
    "    solutions[idx] += len(range(sol1,sol2+1))\n",
    "np.prod(solutions)\n"
   ]
  },
  {
   "cell_type": "code",
   "execution_count": 141,
   "metadata": {},
   "outputs": [
    {
     "data": {
      "text/plain": [
       "59688274"
      ]
     },
     "execution_count": 141,
     "metadata": {},
     "output_type": "execute_result"
    }
   ],
   "source": [
    "new_time = \"\"\n",
    "new_distance = \"\"\n",
    "for idx in range(len(times)):\n",
    "    new_time+=(f\"{times[idx]}\")\n",
    "    new_distance+=(f\"{distances[idx]}\")\n",
    "\n",
    "new_distance = int(new_distance)\n",
    "new_time = int(new_time)\n",
    "new_time"
   ]
  },
  {
   "cell_type": "code",
   "execution_count": 142,
   "metadata": {},
   "outputs": [
    {
     "data": {
      "text/plain": [
       "37286485"
      ]
     },
     "execution_count": 142,
     "metadata": {},
     "output_type": "execute_result"
    }
   ],
   "source": [
    "sol1_new = int((new_time - math.sqrt(new_time**2-4*new_distance))/2)+1\n",
    "sol2_new = int((new_time + math.sqrt(new_time**2-4*new_distance))/2)\n",
    "len(range(sol1_new,sol2_new+1))"
   ]
  },
  {
   "cell_type": "markdown",
   "metadata": {},
   "source": [
    "## PROBLEM 7"
   ]
  },
  {
   "cell_type": "code",
   "execution_count": 153,
   "metadata": {},
   "outputs": [],
   "source": [
    "from collections import Counter"
   ]
  },
  {
   "cell_type": "code",
   "execution_count": 143,
   "metadata": {},
   "outputs": [],
   "source": [
    "with open(\"problem7.txt\",\"r\") as f:\n",
    "    input_7 = f.read().split(\"\\n\")"
   ]
  },
  {
   "cell_type": "code",
   "execution_count": 151,
   "metadata": {},
   "outputs": [],
   "source": [
    "input_7_ex = \"\"\"\n",
    "32T3K 765\n",
    "T55J5 684\n",
    "KK677 28\n",
    "KTJJT 220\n",
    "QQQJA 483\"\"\".split(\"\\n\")[1:]"
   ]
  },
  {
   "cell_type": "code",
   "execution_count": 166,
   "metadata": {},
   "outputs": [
    {
     "data": {
      "text/plain": [
       "'3'"
      ]
     },
     "execution_count": 166,
     "metadata": {},
     "output_type": "execute_result"
    }
   ],
   "source": [
    "#check the len of the set and then check the max occurrences\n",
    "input_7_ex[0].split(\" \")[0][0]"
   ]
  },
  {
   "cell_type": "code",
   "execution_count": 236,
   "metadata": {},
   "outputs": [
    {
     "data": {
      "text/plain": [
       "252052080"
      ]
     },
     "execution_count": 236,
     "metadata": {},
     "output_type": "execute_result"
    }
   ],
   "source": [
    "#each hand type can be identified by the number of different cards in the hand + the highest number of occurrences -> then we can order them by these\n",
    "hand_type_dct = {(1,5): 1, (2,4):2,(2,3):3,(3,3):4,(3,2):5, (4,2):6, (5,1):7}\n",
    "cards_order = [\"A\", \"K\", \"Q\", \"J\", \"T\", \"9\", \"8\", \"7\", \"6\", \"5\", \"4\", \"3\", \"2\"]\n",
    "points_list = []\n",
    "ranking = list(range(len(input_7),0,-1))\n",
    "for line in input_7:\n",
    "    hand = line.split(\" \")[0]\n",
    "    bid = line.split(\" \")[1]\n",
    "    \n",
    "    num_diff_cards = len(set(list(hand)))\n",
    "    _,num_most_common = Counter(hand).most_common(1)[0]\n",
    "\n",
    "    type_value = hand_type_dct[(num_diff_cards,num_most_common)]\n",
    "    \n",
    "    #hash the hand to sort properly\n",
    "    hash_points = 13**(type_value+4) + np.dot([13**idx for idx in range(4,-1,-1)],[cards_order.index(hand[idx]) for idx in range(5)])\n",
    "    \n",
    "    points_list.append((bid,hash_points,hand))\n",
    "\n",
    "points_list = list(sorted(points_list, key = lambda x: x[1]))\n",
    "#print(points_list)\n",
    "ordered_bids = [int(value[0]) for value in points_list]\n",
    "np.dot(ordered_bids,ranking)\n",
    "    \n",
    "\n",
    "    \n"
   ]
  },
  {
   "cell_type": "code",
   "execution_count": 235,
   "metadata": {},
   "outputs": [
    {
     "data": {
      "text/plain": [
       "252898370"
      ]
     },
     "execution_count": 235,
     "metadata": {},
     "output_type": "execute_result"
    }
   ],
   "source": [
    "hand_type_dct = {(1,5): 1, (2,4):2,(2,3):3,(3,3):4,(3,2):5, (4,2):6, (5,1):7}\n",
    "new_cards_order = [\"A\", \"K\", \"Q\", \"T\", \"9\", \"8\", \"7\", \"6\", \"5\", \"4\", \"3\", \"2\",\"J\"]\n",
    "points_list = []\n",
    "ranking = list(range(len(input_7),0,-1))\n",
    "for line in input_7:\n",
    "    hand = line.split(\" \")[0]\n",
    "    bid = line.split(\" \")[1]\n",
    "    num_diff_cards = len(set(list(hand)))\n",
    "    most_common_card,num_most_common = Counter(hand).most_common(1)[0]\n",
    "\n",
    "    countJ = hand.count(\"J\")\n",
    "\n",
    "    #check if J is there:\n",
    "    if num_diff_cards == 2 and \"J\" in hand:\n",
    "        (num_diff_cards, num_most_common) = (1,5)\n",
    "\n",
    "    elif num_diff_cards == 3 and num_most_common == 3 and \"J\" in hand:\n",
    "        (num_diff_cards, num_most_common) = (2,4)\n",
    "    \n",
    "    elif num_diff_cards == 3 and num_most_common == 2 and \"J\" in hand:\n",
    "        if countJ == 2:\n",
    "            (num_diff_cards, num_most_common) = (2,4)\n",
    "        elif countJ == 1:\n",
    "            (num_diff_cards, num_most_common) = (2,3)\n",
    "    \n",
    "    elif num_diff_cards == 4 and \"J\" in hand:\n",
    "        (num_diff_cards, num_most_common) = (3,3)\n",
    "\n",
    "    elif num_diff_cards == 5 and \"J\" in hand:\n",
    "        (num_diff_cards, num_most_common) = (4,2)\n",
    "\n",
    "    type_value = hand_type_dct[(num_diff_cards,num_most_common)]\n",
    "    \n",
    "    hash_points = 13**(type_value+4) + np.dot([13**idx for idx in range(4,-1,-1)],[new_cards_order.index(hand[idx]) for idx in range(5)])\n",
    "    points_list.append((bid,hash_points,hand))\n",
    "\n",
    "points_list = list(sorted(points_list, key = lambda x: x[1]))\n",
    "ordered_bids = [int(value[0]) for value in points_list]\n",
    "np.dot(ordered_bids,ranking)"
   ]
  },
  {
   "cell_type": "markdown",
   "metadata": {},
   "source": [
    "## PROBLEM 8"
   ]
  },
  {
   "cell_type": "code",
   "execution_count": 237,
   "metadata": {},
   "outputs": [],
   "source": [
    "with open(\"problem8.txt\",\"r\") as f:\n",
    "    input_8 = f.read().split(\"\\n\")"
   ]
  },
  {
   "cell_type": "code",
   "execution_count": 239,
   "metadata": {},
   "outputs": [],
   "source": [
    "directions = input_8[0]\n",
    "coordinates = input_8[2:]"
   ]
  },
  {
   "cell_type": "code",
   "execution_count": 241,
   "metadata": {},
   "outputs": [
    {
     "data": {
      "text/plain": [
       "['LRV = (NNC, BHD)',\n",
       " 'KBR = (MLH, XGR)',\n",
       " 'BJB = (RCR, LBC)',\n",
       " 'SXL = (HTF, LTX)',\n",
       " 'BLV = (TXF, SPK)',\n",
       " 'FCH = (DMS, HVX)',\n",
       " 'GPM = (HJV, JLK)',\n",
       " 'BRQ = (BLR, BTD)',\n",
       " 'LNT = (XDS, GTJ)',\n",
       " 'CHP = (TRF, PQM)',\n",
       " 'CMF = (CLT, NBM)',\n",
       " 'HNT = (SGQ, BLP)',\n",
       " 'GXG = (JFP, JHQ)',\n",
       " 'NDD = (GTJ, XDS)',\n",
       " 'KBJ = (FXP, VBJ)',\n",
       " 'RKM = (HTT, DPG)',\n",
       " 'GCQ = (CDT, TSQ)',\n",
       " 'XQX = (CCD, TVG)',\n",
       " 'BJF = (NHQ, MPM)',\n",
       " 'SFD = (MJD, MMH)',\n",
       " 'SGQ = (LNX, BRL)',\n",
       " 'NXR = (TXD, GCF)',\n",
       " 'QJH = (FJX, NFV)',\n",
       " 'RSR = (MCM, RLH)',\n",
       " 'VBG = (QFH, SXX)',\n",
       " 'PLH = (XGJ, HTP)',\n",
       " 'LTK = (SJJ, JBB)',\n",
       " 'CPK = (TMX, NRX)',\n",
       " 'BCC = (PVV, PLM)',\n",
       " 'CGC = (MCF, HFK)',\n",
       " 'TGB = (TQQ, LRV)',\n",
       " 'PCF = (GMV, DTG)',\n",
       " 'PDB = (DPG, HTT)',\n",
       " 'RFQ = (GKM, VFF)',\n",
       " 'VKZ = (GCL, VPP)',\n",
       " 'FGL = (MDS, PGM)',\n",
       " 'KRZ = (CFT, XPM)',\n",
       " 'LSR = (GRQ, KKJ)',\n",
       " 'VKM = (GRQ, KKJ)',\n",
       " 'SKT = (NXT, KRQ)',\n",
       " 'FMB = (VBH, NFJ)',\n",
       " 'RRR = (TJF, QGN)',\n",
       " 'FHT = (XMT, RKV)',\n",
       " 'HTF = (SRB, QVD)',\n",
       " 'GTJ = (CHD, PLJ)',\n",
       " 'QSM = (CMF, TDS)',\n",
       " 'VNG = (DKC, SMV)',\n",
       " 'MNT = (BKN, BKN)',\n",
       " 'VRV = (GJM, JCG)',\n",
       " 'QBC = (CKV, LCC)',\n",
       " 'GPD = (SXD, BML)',\n",
       " 'SFR = (SVD, BDL)',\n",
       " 'PBK = (VPQ, NMC)',\n",
       " 'TJF = (XDN, RMG)',\n",
       " 'HGM = (GGH, BXS)',\n",
       " 'PJB = (TPR, VMD)',\n",
       " 'FDL = (QBC, KLN)',\n",
       " 'RXB = (BSB, NLD)',\n",
       " 'MMN = (SGQ, BLP)',\n",
       " 'BDN = (BJS, NTS)',\n",
       " 'RRG = (BLV, LPG)',\n",
       " 'MBF = (DJD, FGF)',\n",
       " 'FMK = (NDG, XHN)',\n",
       " 'CMX = (VNV, KBN)',\n",
       " 'XML = (TQJ, FCX)',\n",
       " 'TKF = (HQM, LGK)',\n",
       " 'RVF = (GFG, MQN)',\n",
       " 'FJX = (GVX, FHK)',\n",
       " 'JPQ = (STP, GLH)',\n",
       " 'GLK = (PCR, BBF)',\n",
       " 'DBR = (JFQ, JFQ)',\n",
       " 'GJG = (DXX, QLR)',\n",
       " 'DRH = (QTG, GJG)',\n",
       " 'FHS = (PHB, NJH)',\n",
       " 'JCT = (CDT, TSQ)',\n",
       " 'NDM = (LVV, GPP)',\n",
       " 'LDF = (XLT, GKX)',\n",
       " 'NNX = (PQK, DRB)',\n",
       " 'VKP = (BPF, CPC)',\n",
       " 'PCG = (FJD, MRT)',\n",
       " 'TQJ = (LMN, SHR)',\n",
       " 'CVH = (BRQ, KJK)',\n",
       " 'VJT = (SLG, XGB)',\n",
       " 'QHG = (NDG, NDG)',\n",
       " 'FRL = (GDQ, SMJ)',\n",
       " 'FTF = (JPD, DCK)',\n",
       " 'VGF = (XNN, GVN)',\n",
       " 'LSB = (NMC, VPQ)',\n",
       " 'NSC = (KPQ, PNK)',\n",
       " 'QPR = (JFP, JHQ)',\n",
       " 'CRX = (MQC, HMB)',\n",
       " 'CQM = (TXD, GCF)',\n",
       " 'MBS = (LTF, KKG)',\n",
       " 'VFG = (BPB, MHX)',\n",
       " 'CCF = (HHS, LDR)',\n",
       " 'JLB = (PBK, LSB)',\n",
       " 'GNR = (CMK, FTK)',\n",
       " 'TSA = (DJG, MFF)',\n",
       " 'BDL = (BJB, XKR)',\n",
       " 'CMN = (GDQ, SMJ)',\n",
       " 'TMR = (MCN, MBF)',\n",
       " 'FFC = (MFN, STT)',\n",
       " 'VPM = (VCH, FBB)',\n",
       " 'RNX = (RGH, SDF)',\n",
       " 'RDF = (TML, PLH)',\n",
       " 'NBM = (FLQ, RBD)',\n",
       " 'MTK = (TDM, XPV)',\n",
       " 'NFK = (SLD, FRS)',\n",
       " 'PNB = (QPT, HPC)',\n",
       " 'MGH = (NDK, KGN)',\n",
       " 'CRT = (MMB, BBM)',\n",
       " 'NDG = (JGT, JGT)',\n",
       " 'GJM = (FMB, NDP)',\n",
       " 'GPP = (VDJ, CDX)',\n",
       " 'JFP = (SDH, QFJ)',\n",
       " 'TSQ = (PQG, GXT)',\n",
       " 'CNB = (SFD, MQG)',\n",
       " 'TVN = (CNP, LCS)',\n",
       " 'XDQ = (LNT, NDD)',\n",
       " 'JCG = (NDP, FMB)',\n",
       " 'NDC = (NTH, FSJ)',\n",
       " 'KRQ = (JVD, LVS)',\n",
       " 'LMF = (KPQ, PNK)',\n",
       " 'GTP = (RJD, FCH)',\n",
       " 'XTV = (VLX, RXB)',\n",
       " 'GCL = (LJJ, TTC)',\n",
       " 'THX = (RMQ, VBK)',\n",
       " 'RJD = (DMS, HVX)',\n",
       " 'VLV = (LNT, NDD)',\n",
       " 'BRD = (HTF, LTX)',\n",
       " 'SMJ = (SKV, HXP)',\n",
       " 'DLX = (FFC, GNS)',\n",
       " 'BXS = (RSR, KFB)',\n",
       " 'KTV = (PLM, PVV)',\n",
       " 'VCH = (RCF, LXP)',\n",
       " 'LHK = (SDF, RGH)',\n",
       " 'VTK = (HNM, MMM)',\n",
       " 'TRC = (PJB, CKN)',\n",
       " 'XMX = (BLH, XCF)',\n",
       " 'VDL = (PCG, DHB)',\n",
       " 'CPC = (KDC, BFD)',\n",
       " 'KNG = (VTK, DTL)',\n",
       " 'LQX = (FGL, TSP)',\n",
       " 'HXH = (JSB, LSD)',\n",
       " 'SCS = (VTX, PLG)',\n",
       " 'DRB = (TGV, QRX)',\n",
       " 'GDN = (MQX, KPC)',\n",
       " 'DPG = (NFR, BPN)',\n",
       " 'HTD = (HGV, BSZ)',\n",
       " 'GVL = (DGJ, CHP)',\n",
       " 'PMB = (MTB, JCB)',\n",
       " 'NKT = (KBJ, JJP)',\n",
       " 'KGC = (KFR, NRT)',\n",
       " 'RTT = (XPM, CFT)',\n",
       " 'LFG = (RCB, NNX)',\n",
       " 'HTT = (BPN, NFR)',\n",
       " 'MHX = (JRL, JQB)',\n",
       " 'RXS = (HQM, LGK)',\n",
       " 'CJB = (DKD, KMJ)',\n",
       " 'CXL = (LRN, LFG)',\n",
       " 'XKR = (RCR, LBC)',\n",
       " 'BLR = (MLC, CGC)',\n",
       " 'DGJ = (PQM, TRF)',\n",
       " 'CPD = (DGJ, CHP)',\n",
       " 'DRN = (TRQ, TLH)',\n",
       " 'CFT = (TSH, PHS)',\n",
       " 'PHQ = (RMQ, VBK)',\n",
       " 'SXD = (XHC, TDX)',\n",
       " 'TLQ = (VLX, RXB)',\n",
       " 'BHF = (VNV, KBN)',\n",
       " 'PFB = (MQX, KPC)',\n",
       " 'BRL = (HPN, SRJ)',\n",
       " 'XFL = (KNG, KTS)',\n",
       " 'RMX = (VBG, NTD)',\n",
       " 'HQC = (VXL, GXJ)',\n",
       " 'GHQ = (CRT, LNJ)',\n",
       " 'TXD = (VGF, VFJ)',\n",
       " 'MQG = (MJD, MMH)',\n",
       " 'HPN = (RST, VDD)',\n",
       " 'QNL = (TKF, RXS)',\n",
       " 'NGJ = (NFP, RCP)',\n",
       " 'NFB = (MHX, BPB)',\n",
       " 'GNF = (GFG, MQN)',\n",
       " 'TSP = (PGM, MDS)',\n",
       " 'QTG = (QLR, DXX)',\n",
       " 'TXF = (FQQ, HBQ)',\n",
       " 'BPB = (JQB, JRL)',\n",
       " 'NHS = (LQS, NDX)',\n",
       " 'MVV = (PBD, PBD)',\n",
       " 'GKV = (GXG, QPR)',\n",
       " 'CNX = (FTV, KFQ)',\n",
       " 'HQS = (VSX, FTS)',\n",
       " 'JSB = (MDD, SKT)',\n",
       " 'FDX = (NTS, BJS)',\n",
       " 'SNB = (VTX, PLG)',\n",
       " 'TDS = (CLT, NBM)',\n",
       " 'LKJ = (JPX, RPQ)',\n",
       " 'KGN = (SCQ, FLR)',\n",
       " 'HBD = (SXD, BML)',\n",
       " 'DSR = (MRC, BFN)',\n",
       " 'GVN = (QHD, XSJ)',\n",
       " 'MJB = (NDC, SFH)',\n",
       " 'RQS = (KND, HGR)',\n",
       " 'NFG = (NJH, PHB)',\n",
       " 'PHF = (TFN, NQQ)',\n",
       " 'MHQ = (THL, VHQ)',\n",
       " 'KXG = (FFC, GNS)',\n",
       " 'RTL = (NFK, NTM)',\n",
       " 'NJH = (VXB, DNR)',\n",
       " 'TSH = (TRJ, QTP)',\n",
       " 'STL = (GTL, HJC)',\n",
       " 'JQL = (LRN, LFG)',\n",
       " 'SHT = (BSG, PNB)',\n",
       " 'VCL = (FPP, SQP)',\n",
       " 'GKX = (LSM, GQF)',\n",
       " 'TCN = (BLV, LPG)',\n",
       " 'PLR = (JNJ, FPR)',\n",
       " 'HBG = (NBP, VKT)',\n",
       " 'RPQ = (LVH, RDF)',\n",
       " 'JTA = (TKF, RXS)',\n",
       " 'XPV = (DQM, JJD)',\n",
       " 'GJC = (LBN, HFF)',\n",
       " 'SLG = (TKM, FQH)',\n",
       " 'HFK = (VJT, DNQ)',\n",
       " 'TML = (XGJ, HTP)',\n",
       " 'VCM = (DFX, KBR)',\n",
       " 'XHC = (KHD, PHF)',\n",
       " 'JXJ = (VKJ, CVH)',\n",
       " 'NFJ = (FXL, CJB)',\n",
       " 'TDN = (JCN, SQS)',\n",
       " 'SST = (TDS, CMF)',\n",
       " 'HLN = (QKM, CCF)',\n",
       " 'MSV = (HDC, KSX)',\n",
       " 'VPG = (NBD, GTP)',\n",
       " 'XCF = (CPD, GVL)',\n",
       " 'PQK = (QRX, TGV)',\n",
       " 'FVN = (HSJ, RXR)',\n",
       " 'JBB = (PGR, HTL)',\n",
       " 'VLX = (NLD, BSB)',\n",
       " 'BMS = (HJT, PFP)',\n",
       " 'VVV = (DRH, RGF)',\n",
       " 'GTL = (KCS, MHQ)',\n",
       " 'BFD = (DTF, VTN)',\n",
       " 'DKC = (TXT, JKR)',\n",
       " 'QRB = (LQS, NDX)',\n",
       " 'NDL = (LHK, RNX)',\n",
       " 'XQQ = (LLX, QGR)',\n",
       " 'FHK = (MMN, HNT)',\n",
       " 'SNV = (KJP, BPC)',\n",
       " 'QGK = (DHB, PCG)',\n",
       " 'HVG = (KXG, DLX)',\n",
       " 'PNK = (XQD, MPP)',\n",
       " 'BFN = (PVP, NVL)',\n",
       " 'HKN = (DLL, FVN)',\n",
       " 'XGR = (QLP, TXM)',\n",
       " 'KCS = (VHQ, THL)',\n",
       " 'RCR = (SXL, BRD)',\n",
       " 'KHC = (KSX, HDC)',\n",
       " 'HXN = (RRR, JGK)',\n",
       " 'MPB = (PLR, TLV)',\n",
       " 'PRX = (RGF, DRH)',\n",
       " 'NGN = (GRC, NCT)',\n",
       " 'QRG = (PHQ, THX)',\n",
       " 'MFR = (GXJ, VXL)',\n",
       " 'QQX = (JTL, HQH)',\n",
       " 'DBN = (HJT, PFP)',\n",
       " 'LVV = (VDJ, CDX)',\n",
       " 'JVD = (RFQ, NRR)',\n",
       " 'JTL = (CRX, LRM)',\n",
       " 'FJQ = (CMX, BHF)',\n",
       " 'LNX = (HPN, SRJ)',\n",
       " 'XQD = (MLS, XPH)',\n",
       " 'MQN = (CJM, RQS)',\n",
       " 'NRT = (FNF, VCX)',\n",
       " 'CGJ = (QMK, MPB)',\n",
       " 'KRM = (GBJ, FPG)',\n",
       " 'MPP = (MLS, XPH)',\n",
       " 'BKN = (GBB, VXV)',\n",
       " 'JCB = (CNX, RTS)',\n",
       " 'CJM = (HGR, KND)',\n",
       " 'DDR = (CPK, QFP)',\n",
       " 'MGC = (FFV, QJQ)',\n",
       " 'GJP = (NHQ, NHQ)',\n",
       " 'QVD = (DPP, FQP)',\n",
       " 'RBC = (VTV, QTV)',\n",
       " 'KND = (KSV, JLB)',\n",
       " 'GGH = (RSR, KFB)',\n",
       " 'SQB = (XFL, HMP)',\n",
       " 'DJG = (LHG, GND)',\n",
       " 'DTF = (TKJ, XPL)',\n",
       " 'RXR = (VCT, SFR)',\n",
       " 'LLH = (VLV, XDQ)',\n",
       " 'SDF = (GCQ, JCT)',\n",
       " 'BLA = (XPM, CFT)',\n",
       " 'RLF = (XRH, KFF)',\n",
       " 'VDD = (DRN, GHB)',\n",
       " 'MQC = (SHQ, PCV)',\n",
       " 'VBK = (VHD, FXH)',\n",
       " 'KJK = (BLR, BTD)',\n",
       " 'JQB = (JQL, CXL)',\n",
       " 'FCX = (LMN, SHR)',\n",
       " 'MQX = (MBS, MQV)',\n",
       " 'NHQ = (RTT, RTT)',\n",
       " 'QNG = (DLX, KXG)',\n",
       " 'FTS = (KQN, GXH)',\n",
       " 'JXP = (FJQ, LVX)',\n",
       " 'JMD = (BLH, XCF)',\n",
       " 'FQQ = (SDB, GNR)',\n",
       " 'GFH = (LTK, KTT)',\n",
       " 'HDC = (NNM, HGM)',\n",
       " 'BTD = (MLC, CGC)',\n",
       " 'FLQ = (BQS, NBK)',\n",
       " 'DXP = (MCN, MBF)',\n",
       " 'QGR = (NXR, CQM)',\n",
       " 'MLS = (LSH, BJM)',\n",
       " 'FGV = (DXP, TMR)',\n",
       " 'RLR = (NFV, FJX)',\n",
       " 'NNC = (MVV, MVV)',\n",
       " 'MGK = (CSG, NMV)',\n",
       " 'FFV = (LSF, QBP)',\n",
       " 'NCT = (GNF, RVF)',\n",
       " 'SLD = (XFS, HXH)',\n",
       " 'GFR = (GPM, GLD)',\n",
       " 'CXT = (GTP, NBD)',\n",
       " 'KKG = (LVB, FKX)',\n",
       " 'VLL = (TVN, JQV)',\n",
       " 'KFQ = (CGX, NKT)',\n",
       " 'RMG = (KRM, MKC)',\n",
       " 'QFL = (TQQ, LRV)',\n",
       " 'FKX = (SMN, LDH)',\n",
       " 'QPT = (FCJ, VCM)',\n",
       " 'XPH = (LSH, BJM)',\n",
       " 'DHB = (MRT, FJD)',\n",
       " 'NBK = (QJM, GNN)',\n",
       " 'DLJ = (MNT, PCS)',\n",
       " 'TMK = (KJP, BPC)',\n",
       " 'HQM = (CMB, BVP)',\n",
       " 'TGV = (QQX, DSP)',\n",
       " 'DSP = (HQH, JTL)',\n",
       " 'DLL = (RXR, HSJ)',\n",
       " 'JLJ = (SNV, TMK)',\n",
       " 'MMM = (GJP, BJF)',\n",
       " 'BMQ = (VHX, VRV)',\n",
       " 'MKC = (GBJ, FPG)',\n",
       " 'CPL = (QBC, KLN)',\n",
       " 'SVD = (XKR, BJB)',\n",
       " 'GXH = (CPQ, BNV)',\n",
       " 'VTS = (DCK, JPD)',\n",
       " 'CNJ = (PCF, DFJ)',\n",
       " 'TDX = (PHF, KHD)',\n",
       " 'LJJ = (MSV, KHC)',\n",
       " 'DXX = (LKJ, STN)',\n",
       " 'KFF = (CNJ, XBC)',\n",
       " 'RLH = (LQX, RNJ)',\n",
       " 'LHG = (PSH, SJM)',\n",
       " 'HSJ = (VCT, SFR)',\n",
       " 'DFV = (PCR, BBF)',\n",
       " 'MLC = (HFK, MCF)',\n",
       " 'JPK = (DPD, JXP)',\n",
       " 'LVS = (RFQ, NRR)',\n",
       " 'SMN = (QCL, MQK)',\n",
       " 'RQL = (PMB, NDT)',\n",
       " 'GNS = (MFN, STT)',\n",
       " 'GDD = (DLL, FVN)',\n",
       " 'GBJ = (CNS, MJB)',\n",
       " 'LKM = (VCH, FBB)',\n",
       " 'SPK = (HBQ, FQQ)',\n",
       " 'KHD = (TFN, NQQ)',\n",
       " 'GRC = (GNF, RVF)',\n",
       " 'MLH = (TXM, QLP)',\n",
       " 'QTQ = (HFF, LBN)',\n",
       " 'LHS = (DXC, RQL)',\n",
       " 'QTV = (BMQ, KHB)',\n",
       " 'QLX = (FHT, RLL)',\n",
       " 'VKT = (BVK, HHF)',\n",
       " 'CKV = (QLD, QLD)',\n",
       " 'LBC = (SXL, BRD)',\n",
       " 'KFR = (FNF, VCX)',\n",
       " 'HDT = (BSG, PNB)',\n",
       " 'SKQ = (NDV, VKN)',\n",
       " 'TQQ = (NNC, BHD)',\n",
       " 'XHN = (JGT, VKZ)',\n",
       " 'PNS = (FTF, VTS)',\n",
       " 'QBP = (VPG, CXT)',\n",
       " 'BSG = (HPC, QPT)',\n",
       " 'GLD = (JLK, HJV)',\n",
       " 'LTF = (LVB, FKX)',\n",
       " 'RMQ = (VHD, FXH)',\n",
       " 'VXL = (GDD, HKN)',\n",
       " 'GDC = (QSM, SST)',\n",
       " 'CSS = (NDV, VKN)',\n",
       " 'BBF = (KBH, THK)',\n",
       " 'PLM = (GJC, QTQ)',\n",
       " 'PLX = (KGN, NDK)',\n",
       " 'NVZ = (RXS, TKF)',\n",
       " 'TPR = (PVJ, CVJ)',\n",
       " 'QGN = (RMG, XDN)',\n",
       " 'SQP = (LQQ, HDS)',\n",
       " 'QTT = (XRH, KFF)',\n",
       " 'PGM = (XQX, FQM)',\n",
       " 'KJP = (CSB, QHR)',\n",
       " 'PSM = (VKM, LSR)',\n",
       " 'NBA = (VPP, GCL)',\n",
       " 'CSB = (LDF, HXG)',\n",
       " 'XTH = (SGX, NLP)',\n",
       " 'STP = (CMN, FRL)',\n",
       " 'HGR = (JLB, KSV)',\n",
       " 'MRT = (XTH, SML)',\n",
       " 'DFJ = (GMV, DTG)',\n",
       " 'RBD = (BQS, NBK)',\n",
       " 'TCC = (FFV, QJQ)',\n",
       " 'PHS = (QTP, TRJ)',\n",
       " 'TQH = (LTK, KTT)',\n",
       " 'QTP = (XMX, JMD)',\n",
       " 'HFF = (PFB, GDN)',\n",
       " 'GXT = (LCT, NHC)',\n",
       " 'LMP = (RNX, LHK)',\n",
       " 'KQN = (CPQ, BNV)',\n",
       " 'JRL = (JQL, CXL)',\n",
       " 'VSX = (GXH, KQN)',\n",
       " 'XNN = (QHD, XSJ)',\n",
       " 'HPC = (VCM, FCJ)',\n",
       " 'PGJ = (QNL, QNL)',\n",
       " 'TLH = (FHS, NFG)',\n",
       " 'MMH = (RLF, QTT)',\n",
       " 'JXR = (JQV, TVN)',\n",
       " 'LDH = (MQK, QCL)',\n",
       " 'SQS = (CGJ, CFS)',\n",
       " 'VNV = (RBC, MLK)',\n",
       " 'BML = (TDX, XHC)',\n",
       " 'MGL = (QXC, LLH)',\n",
       " 'FXH = (GDC, NTV)',\n",
       " 'NLD = (MGH, PLX)',\n",
       " 'HJV = (FPL, RTL)',\n",
       " 'PLG = (DDR, PNN)',\n",
       " 'KPH = (TMR, DXP)',\n",
       " 'LRM = (HMB, MQC)',\n",
       " 'TRT = (NPC, GFR)',\n",
       " 'HTL = (SPT, QLX)',\n",
       " 'VPP = (TTC, LJJ)',\n",
       " 'FPG = (CNS, MJB)',\n",
       " 'KJN = (JGK, RRR)',\n",
       " 'PVV = (QTQ, GJC)',\n",
       " 'VPQ = (NHS, QRB)',\n",
       " 'DCC = (LHS, DGL)',\n",
       " 'KBH = (QJH, RLR)',\n",
       " 'PFP = (BDN, FDX)',\n",
       " 'KSV = (LSB, PBK)',\n",
       " 'NTS = (SCS, SNB)',\n",
       " 'HTP = (QMM, VCL)',\n",
       " 'BPC = (QHR, CSB)',\n",
       " 'XPM = (PHS, TSH)',\n",
       " 'PQM = (RKM, PDB)',\n",
       " 'DFC = (CVH, VKJ)',\n",
       " 'HMP = (KTS, KNG)',\n",
       " 'PHB = (VXB, DNR)',\n",
       " 'MTB = (CNX, RTS)',\n",
       " 'MJD = (QTT, RLF)',\n",
       " 'HNM = (GJP, GJP)',\n",
       " 'QLP = (TCN, RRG)',\n",
       " 'JPD = (VHR, PSM)',\n",
       " 'KBN = (MLK, RBC)',\n",
       " 'LDR = (SHT, HDT)',\n",
       " 'NTH = (QNG, HVG)',\n",
       " 'RCP = (HBD, GPD)',\n",
       " 'SGX = (HXN, KJN)',\n",
       " 'XDK = (JFQ, MDQ)',\n",
       " 'LLQ = (VSX, FTS)',\n",
       " 'TXT = (QFL, TGB)',\n",
       " 'NRR = (VFF, GKM)',\n",
       " 'DGL = (DXC, RQL)',\n",
       " 'KKJ = (MGC, TCC)',\n",
       " 'QJQ = (QBP, LSF)',\n",
       " 'CPQ = (CSS, SKQ)',\n",
       " 'TFN = (VDL, QGK)',\n",
       " 'TVK = (SNV, TMK)',\n",
       " 'HJC = (KCS, MHQ)',\n",
       " 'VKJ = (KJK, BRQ)',\n",
       " 'HQH = (CRX, LRM)',\n",
       " 'PVJ = (VVV, PRX)',\n",
       " 'HHS = (SHT, HDT)',\n",
       " 'XDN = (MKC, KRM)',\n",
       " 'XGB = (FQH, TKM)',\n",
       " 'HXG = (XLT, GKX)',\n",
       " 'NMC = (QRB, NHS)',\n",
       " 'MFF = (GND, LHG)',\n",
       " 'JGT = (VPP, GCL)',\n",
       " 'LLX = (NXR, CQM)',\n",
       " 'BVK = (GKV, VMV)',\n",
       " 'NDV = (THG, THG)',\n",
       " 'CKN = (TPR, VMD)',\n",
       " 'FTK = (KQG, GHQ)',\n",
       " 'SGZ = (VXV, GBB)',\n",
       " 'KFN = (PJB, CKN)',\n",
       " 'DQM = (HBG, KTB)',\n",
       " 'LNJ = (MMB, BBM)',\n",
       " 'JJP = (VBJ, FXP)',\n",
       " 'XFS = (JSB, LSD)',\n",
       " 'GBB = (XTV, TLQ)',\n",
       " 'BJS = (SNB, SCS)',\n",
       " 'JNJ = (QHG, QHG)',\n",
       " 'TRJ = (XMX, JMD)',\n",
       " 'TVG = (HDH, STL)',\n",
       " 'AAA = (MRC, BFN)',\n",
       " 'BNV = (CSS, SKQ)',\n",
       " 'JHQ = (QFJ, SDH)',\n",
       " 'BVX = (NFB, VFG)',\n",
       " 'NDP = (VBH, NFJ)',\n",
       " 'NTD = (QFH, SXX)',\n",
       " 'NVL = (QRG, HTG)',\n",
       " 'VDP = (GRC, NCT)',\n",
       " 'MLK = (VTV, QTV)',\n",
       " 'JPX = (RDF, LVH)',\n",
       " 'PBD = (HGV, HGV)',\n",
       " 'RCF = (DFC, JXJ)',\n",
       " 'CVJ = (VVV, PRX)',\n",
       " 'DTL = (HNM, MMM)',\n",
       " 'VCX = (MFR, HQC)',\n",
       " 'VFF = (DFV, GLK)',\n",
       " 'MQK = (TVK, JLJ)',\n",
       " 'TKJ = (XFH, MTS)',\n",
       " 'SBX = (KMD, NDM)',\n",
       " 'VXV = (TLQ, XTV)',\n",
       " 'GRQ = (MGC, TCC)',\n",
       " 'NTV = (QSM, SST)',\n",
       " 'LVX = (BHF, CMX)',\n",
       " 'QXC = (XDQ, VLV)',\n",
       " 'QCL = (JLJ, TVK)',\n",
       " 'QXA = (GBB, VXV)',\n",
       " 'RKV = (PQQ, PQH)',\n",
       " 'QLD = (MNT, MNT)',\n",
       " 'LBQ = (TQJ, FCX)',\n",
       " 'NXT = (JVD, LVS)',\n",
       " 'CPX = (VFG, NFB)',\n",
       " 'KQG = (LNJ, CRT)',\n",
       " 'GHB = (TRQ, TLH)',\n",
       " 'TRF = (PDB, RKM)',\n",
       " 'SHQ = (JPQ, RKS)',\n",
       " 'NBD = (FCH, RJD)',\n",
       " 'CSG = (JPK, CPV)',\n",
       " 'DNR = (MGK, DPF)',\n",
       " 'TMX = (MGL, HBN)',\n",
       " 'KMD = (LVV, GPP)',\n",
       " 'TLV = (JNJ, FPR)',\n",
       " 'MCN = (DJD, FGF)',\n",
       " 'BSZ = (MFF, DJG)',\n",
       " 'GMV = (RSQ, HLN)',\n",
       " 'LCT = (KTV, BCC)',\n",
       " 'KPQ = (MPP, XQD)',\n",
       " 'VBH = (FXL, CJB)',\n",
       " 'NDK = (SCQ, FLR)',\n",
       " 'VTX = (PNN, DDR)',\n",
       " 'HGV = (DJG, MFF)',\n",
       " 'TRG = (BVG, SQB)',\n",
       " 'THG = (PGJ, PGJ)',\n",
       " 'SDB = (CMK, FTK)',\n",
       " 'NTM = (SLD, FRS)',\n",
       " 'KMJ = (PBM, SXJ)',\n",
       " 'MTM = (LLQ, HQS)',\n",
       " 'NFP = (GPD, HBD)',\n",
       " 'TKM = (NCC, TRG)',\n",
       " 'XMT = (PQQ, PQH)',\n",
       " 'THL = (TRC, KFN)',\n",
       " 'CPV = (JXP, DPD)',\n",
       " 'GVX = (HNT, MMN)',\n",
       " 'XSJ = (CJT, RMX)',\n",
       " 'HMB = (PCV, SHQ)',\n",
       " 'SRJ = (VDD, RST)',\n",
       " 'STT = (KGV, VNG)',\n",
       " 'LSH = (KPK, MTK)',\n",
       " 'CHD = (XQQ, CTF)',\n",
       " 'NFV = (GVX, FHK)',\n",
       " 'XDS = (PLJ, CHD)',\n",
       " 'BVP = (VKC, PNS)',\n",
       " 'VFJ = (GVN, XNN)',\n",
       " 'TSC = (JCN, SQS)',\n",
       " 'RGF = (GJG, QTG)',\n",
       " 'VMD = (PVJ, CVJ)',\n",
       " 'GPR = (GCB, VKP)',\n",
       " 'PNN = (CPK, QFP)',\n",
       " 'DKD = (PBM, SXJ)',\n",
       " 'FSJ = (QNG, HVG)',\n",
       " 'KGV = (SMV, DKC)',\n",
       " 'LSM = (DBR, DBR)',\n",
       " 'QLR = (LKJ, STN)',\n",
       " 'FLR = (GPR, HVJ)',\n",
       " 'NHC = (BCC, KTV)',\n",
       " 'LQS = (XML, LBQ)',\n",
       " 'NNM = (GGH, BXS)',\n",
       " 'FNF = (HQC, MFR)',\n",
       " 'MTS = (FTG, CNB)',\n",
       " 'FBB = (RCF, LXP)',\n",
       " 'JGK = (QGN, TJF)',\n",
       " 'SHR = (LQR, SBX)',\n",
       " 'QHD = (CJT, RMX)',\n",
       " 'LXF = (NRT, KFR)',\n",
       " 'PGR = (SPT, QLX)',\n",
       " 'PLJ = (CTF, XQQ)',\n",
       " 'DPF = (CSG, NMV)',\n",
       " 'MDQ = (DSR, ZZZ)',\n",
       " 'NLP = (HXN, KJN)',\n",
       " 'SJJ = (HTL, PGR)',\n",
       " 'GDQ = (SKV, HXP)',\n",
       " 'BPF = (KDC, BFD)',\n",
       " 'SXJ = (LKM, VPM)',\n",
       " 'VDJ = (NGJ, TCK)',\n",
       " 'JCN = (CGJ, CFS)',\n",
       " 'BJM = (KPK, MTK)',\n",
       " 'XLT = (LSM, GQF)',\n",
       " 'KHB = (VRV, VHX)',\n",
       " 'RKS = (STP, GLH)',\n",
       " 'CLT = (FLQ, RBD)',\n",
       " 'MMB = (FDL, CPL)',\n",
       " 'HVJ = (GCB, VKP)',\n",
       " 'LTX = (SRB, QVD)',\n",
       " 'KLN = (CKV, LCC)',\n",
       " 'PCS = (BKN, SGZ)',\n",
       " 'HDH = (HJC, GTL)',\n",
       " 'VBJ = (MTM, MHR)',\n",
       " 'QMK = (PLR, TLV)',\n",
       " 'THK = (QJH, RLR)',\n",
       " 'VHX = (JCG, GJM)',\n",
       " 'GKM = (DFV, GLK)',\n",
       " 'FXL = (KMJ, DKD)',\n",
       " 'LSD = (SKT, MDD)',\n",
       " 'FGF = (VDP, NGN)',\n",
       " 'TSL = (DGL, LHS)',\n",
       " 'VCT = (BDL, SVD)',\n",
       " 'MDD = (KRQ, NXT)',\n",
       " 'SML = (SGX, NLP)',\n",
       " 'FTG = (SFD, MQG)',\n",
       " 'QMM = (SQP, FPP)',\n",
       " 'TXM = (TCN, RRG)',\n",
       " 'LVB = (LDH, SMN)',\n",
       " 'KSX = (HGM, NNM)',\n",
       " 'LSF = (VPG, CXT)',\n",
       " 'LQQ = (LMF, NSC)',\n",
       " 'FRS = (XFS, HXH)',\n",
       " 'KTB = (NBP, VKT)',\n",
       " 'JJD = (HBG, KTB)',\n",
       " 'DFX = (XGR, MLH)',\n",
       " 'BBM = (CPL, FDL)',\n",
       " 'PQQ = (JXR, VLL)',\n",
       " 'DXC = (NDT, PMB)',\n",
       " 'KTT = (JBB, SJJ)',\n",
       " 'SFH = (NTH, FSJ)',\n",
       " 'XPL = (XFH, MTS)',\n",
       " 'CCD = (STL, HDH)',\n",
       " 'RTS = (KFQ, FTV)',\n",
       " 'MPM = (RTT, KRZ)',\n",
       " 'XBC = (PCF, DFJ)',\n",
       " 'HVX = (BMS, DBN)',\n",
       " 'SDH = (KGC, LXF)',\n",
       " 'HHF = (VMV, GKV)',\n",
       " 'FQM = (CCD, TVG)',\n",
       " 'LCC = (QLD, DLJ)',\n",
       " 'GCF = (VFJ, VGF)',\n",
       " 'HTG = (PHQ, THX)',\n",
       " 'CMK = (KQG, GHQ)',\n",
       " 'NFR = (GJX, TRT)',\n",
       " 'DTG = (HLN, RSQ)',\n",
       " 'VXB = (MGK, DPF)',\n",
       " 'NCC = (SQB, BVG)',\n",
       " 'CFS = (MPB, QMK)',\n",
       " 'VKN = (THG, BBV)',\n",
       " 'PQH = (VLL, JXR)',\n",
       " 'KDC = (DTF, VTN)',\n",
       " 'CDT = (PQG, GXT)',\n",
       " 'HVQ = (QNL, NVZ)',\n",
       " 'KTS = (VTK, DTL)',\n",
       " 'FCJ = (KBR, DFX)',\n",
       " 'CDX = (NGJ, TCK)',\n",
       " 'DCK = (VHR, PSM)',\n",
       " 'RNJ = (FGL, TSP)',\n",
       " 'NDX = (XML, LBQ)',\n",
       " 'DPD = (LVX, FJQ)',\n",
       " 'CGX = (KBJ, JJP)',\n",
       " 'TCK = (NFP, RCP)',\n",
       " 'JFQ = (DSR, DSR)',\n",
       " 'PCV = (RKS, JPQ)',\n",
       " 'HBQ = (GNR, SDB)',\n",
       " 'PSH = (FGV, KPH)',\n",
       " 'MHR = (HQS, LLQ)',\n",
       " 'SCQ = (HVJ, GPR)',\n",
       " 'SPT = (FHT, RLL)',\n",
       " 'GJX = (NPC, GFR)',\n",
       " 'CTF = (QGR, LLX)',\n",
       " 'LCS = (LMP, NDL)',\n",
       " 'RGH = (GCQ, JCT)',\n",
       " 'BBV = (PGJ, HVQ)',\n",
       " 'KFB = (MCM, RLH)',\n",
       " 'VHR = (VKM, LSR)',\n",
       " 'FJD = (XTH, SML)',\n",
       " 'FQH = (TRG, NCC)',\n",
       " 'NPC = (GPM, GLD)',\n",
       " 'DJD = (NGN, VDP)',\n",
       " 'XRH = (XBC, CNJ)',\n",
       " 'LMN = (LQR, SBX)',\n",
       " 'QFP = (NRX, TMX)',\n",
       " 'KPC = (MBS, MQV)',\n",
       " 'NMV = (CPV, JPK)',\n",
       " 'LBN = (GDN, PFB)',\n",
       " 'GCB = (BPF, CPC)',\n",
       " 'MDS = (FQM, XQX)',\n",
       " 'MRC = (NVL, PVP)',\n",
       " 'GFG = (RQS, CJM)',\n",
       " 'MCF = (DNQ, VJT)',\n",
       " 'VHQ = (KFN, TRC)',\n",
       " 'XFH = (FTG, CNB)',\n",
       " 'SRB = (FQP, DPP)',\n",
       " 'NBP = (HHF, BVK)',\n",
       " 'BQS = (GNN, QJM)',\n",
       " 'NDT = (MTB, JCB)',\n",
       " 'LPG = (SPK, TXF)',\n",
       " 'RST = (GHB, DRN)',\n",
       " 'HBN = (QXC, LLH)',\n",
       " 'LGK = (CMB, BVP)',\n",
       " 'QFJ = (KGC, LXF)',\n",
       " 'TTC = (KHC, MSV)',\n",
       " 'QHR = (LDF, HXG)',\n",
       " 'VKC = (VTS, FTF)',\n",
       " 'FTV = (CGX, NKT)',\n",
       " 'PCR = (THK, KBH)',\n",
       " 'NRX = (MGL, HBN)',\n",
       " 'SKV = (TQH, GFH)',\n",
       " 'FPR = (QHG, FMK)',\n",
       " 'PQG = (LCT, NHC)',\n",
       " 'BHD = (MVV, HNR)',\n",
       " 'XGJ = (VCL, QMM)',\n",
       " 'ZZZ = (BFN, MRC)',\n",
       " 'BLH = (GVL, CPD)',\n",
       " 'HJT = (BDN, FDX)',\n",
       " 'PBM = (LKM, VPM)',\n",
       " 'TRQ = (FHS, NFG)',\n",
       " 'JKR = (TGB, QFL)',\n",
       " 'JQV = (LCS, CNP)',\n",
       " 'SXX = (DCC, TSL)',\n",
       " 'CMB = (PNS, VKC)',\n",
       " 'MCM = (RNJ, LQX)',\n",
       " 'GLH = (FRL, CMN)',\n",
       " 'DNQ = (SLG, XGB)',\n",
       " 'FPP = (HDS, LQQ)',\n",
       " 'DMS = (BMS, DBN)',\n",
       " 'CNS = (SFH, NDC)',\n",
       " 'VTV = (KHB, BMQ)',\n",
       " 'HNR = (PBD, HTD)',\n",
       " 'GNN = (CPX, BVX)',\n",
       " 'KPK = (TDM, XPV)',\n",
       " 'GXJ = (GDD, HKN)',\n",
       " 'MFN = (VNG, KGV)',\n",
       " 'BVG = (XFL, HMP)',\n",
       " 'QRX = (QQX, DSP)',\n",
       " 'VTN = (XPL, TKJ)',\n",
       " 'QFH = (TSL, DCC)',\n",
       " 'GND = (PSH, SJM)',\n",
       " 'LVH = (PLH, TML)',\n",
       " 'QJM = (CPX, BVX)',\n",
       " 'NQQ = (VDL, QGK)',\n",
       " 'LQR = (KMD, NDM)',\n",
       " 'HXP = (TQH, GFH)',\n",
       " 'RSQ = (QKM, CCF)',\n",
       " 'PVP = (QRG, HTG)',\n",
       " 'RCB = (DRB, PQK)',\n",
       " 'SJM = (KPH, FGV)',\n",
       " 'CNP = (NDL, LMP)',\n",
       " 'LRN = (NNX, RCB)',\n",
       " 'SMV = (JKR, TXT)',\n",
       " 'HDS = (NSC, LMF)',\n",
       " 'VHD = (NTV, GDC)',\n",
       " 'TDM = (DQM, JJD)',\n",
       " 'BLP = (BRL, LNX)',\n",
       " 'JLK = (FPL, RTL)',\n",
       " 'FPL = (NTM, NFK)',\n",
       " 'FXP = (MTM, MHR)',\n",
       " 'LXP = (DFC, JXJ)',\n",
       " 'GQF = (DBR, XDK)',\n",
       " 'QKM = (HHS, LDR)',\n",
       " 'STN = (RPQ, JPX)',\n",
       " 'BSB = (PLX, MGH)',\n",
       " 'DPP = (TDN, TSC)',\n",
       " 'VMV = (QPR, GXG)',\n",
       " 'FQP = (TDN, TSC)',\n",
       " 'BPN = (GJX, TRT)',\n",
       " 'RLL = (XMT, RKV)',\n",
       " 'CJT = (VBG, NTD)',\n",
       " 'MQV = (LTF, KKG)']"
      ]
     },
     "execution_count": 241,
     "metadata": {},
     "output_type": "execute_result"
    }
   ],
   "source": [
    "coordinates"
   ]
  },
  {
   "cell_type": "code",
   "execution_count": 246,
   "metadata": {},
   "outputs": [
    {
     "data": {
      "text/plain": [
       "'BHD'"
      ]
     },
     "execution_count": 246,
     "metadata": {},
     "output_type": "execute_result"
    }
   ],
   "source": [
    "coordinates[0][12:15]"
   ]
  },
  {
   "cell_type": "code",
   "execution_count": 259,
   "metadata": {},
   "outputs": [
    {
     "data": {
      "text/plain": [
       "19667"
      ]
     },
     "execution_count": 259,
     "metadata": {},
     "output_type": "execute_result"
    }
   ],
   "source": [
    "directions = input_8[0]\n",
    "coordinates = input_8[2:]\n",
    "#create the dicitonary\n",
    "coordinates_dct = {}\n",
    "for coor in coordinates:\n",
    "    coordinates_dct[coor[:3]] = [coor[7:10],coor[12:15]]\n",
    "\n",
    "found = False\n",
    "idx=0\n",
    "pos = \"AAA\"\n",
    "while not found:\n",
    "    left_or_right = 0 if directions[idx%len(directions)]==\"L\" else 1\n",
    "    pos = coordinates_dct[pos][left_or_right]\n",
    "    if pos == \"ZZZ\":\n",
    "        found = True\n",
    "    idx+=1\n",
    "idx"
   ]
  },
  {
   "cell_type": "code",
   "execution_count": 264,
   "metadata": {},
   "outputs": [],
   "source": [
    "input_8_ex =\"\"\"\n",
    "LR\n",
    "\n",
    "11A = (11B, XXX)\n",
    "11B = (XXX, 11Z)\n",
    "11Z = (11B, XXX)\n",
    "22A = (22B, XXX)\n",
    "22B = (22C, 22C)\n",
    "22C = (22Z, 22Z)\n",
    "22Z = (22B, 22B)\n",
    "XXX = (XXX, XXX)\n",
    "\"\"\".split(\"\\n\")[1:-1]"
   ]
  },
  {
   "cell_type": "code",
   "execution_count": 265,
   "metadata": {},
   "outputs": [
    {
     "data": {
      "text/plain": [
       "['LR',\n",
       " '',\n",
       " '11A = (11B, XXX)',\n",
       " '11B = (XXX, 11Z)',\n",
       " '11Z = (11B, XXX)',\n",
       " '22A = (22B, XXX)',\n",
       " '22B = (22C, 22C)',\n",
       " '22C = (22Z, 22Z)',\n",
       " '22Z = (22B, 22B)',\n",
       " 'XXX = (XXX, XXX)']"
      ]
     },
     "execution_count": 265,
     "metadata": {},
     "output_type": "execute_result"
    }
   ],
   "source": [
    "input_8_ex"
   ]
  },
  {
   "cell_type": "code",
   "execution_count": 262,
   "metadata": {},
   "outputs": [
    {
     "data": {
      "text/plain": [
       "['VKZ', 'KRZ', 'NVZ', 'SGZ', 'BSZ', 'ZZZ']"
      ]
     },
     "execution_count": 262,
     "metadata": {},
     "output_type": "execute_result"
    }
   ],
   "source": [
    "[key for key in coordinates_dct.keys() if key.endswith(\"Z\")]"
   ]
  },
  {
   "cell_type": "code",
   "execution_count": 273,
   "metadata": {},
   "outputs": [
    {
     "name": "stdout",
     "output_type": "stream",
     "text": [
      "13019\n",
      "26038\n",
      "39057\n",
      "52076\n",
      "65095\n",
      "78114\n",
      "91133\n",
      "104152\n",
      "117171\n",
      "130190\n",
      "143209\n",
      "156228\n",
      "169247\n",
      "182266\n",
      "195285\n",
      "208304\n",
      "221323\n",
      "234342\n",
      "247361\n",
      "260380\n",
      "273399\n",
      "286418\n",
      "299437\n",
      "312456\n",
      "325475\n",
      "338494\n",
      "351513\n",
      "364532\n",
      "377551\n",
      "390570\n",
      "403589\n",
      "416608\n",
      "429627\n",
      "442646\n",
      "455665\n",
      "468684\n",
      "481703\n",
      "494722\n",
      "507741\n",
      "520760\n",
      "533779\n",
      "546798\n",
      "559817\n",
      "572836\n",
      "585855\n",
      "598874\n",
      "611893\n",
      "624912\n",
      "637931\n",
      "650950\n",
      "663969\n",
      "676988\n",
      "690007\n"
     ]
    },
    {
     "ename": "KeyboardInterrupt",
     "evalue": "",
     "output_type": "error",
     "traceback": [
      "\u001b[1;31m---------------------------------------------------------------------------\u001b[0m",
      "\u001b[1;31mKeyboardInterrupt\u001b[0m                         Traceback (most recent call last)",
      "\u001b[1;32mc:\\Users\\borgesv\\Desktop\\Projects\\Work\\random\\advent_of_code\\my_solutions.ipynb Cell 41\u001b[0m line \u001b[0;36m1\n\u001b[0;32m     <a href='vscode-notebook-cell:/c%3A/Users/borgesv/Desktop/Projects/Work/random/advent_of_code/my_solutions.ipynb#Y140sZmlsZQ%3D%3D?line=15'>16</a>\u001b[0m     \u001b[39mif\u001b[39;00m \u001b[39mall\u001b[39m(pos\u001b[39m.\u001b[39mendswith(\u001b[39m\"\u001b[39m\u001b[39mZ\u001b[39m\u001b[39m\"\u001b[39m) \u001b[39mfor\u001b[39;00m pos \u001b[39min\u001b[39;00m pos_list):\n\u001b[0;32m     <a href='vscode-notebook-cell:/c%3A/Users/borgesv/Desktop/Projects/Work/random/advent_of_code/my_solutions.ipynb#Y140sZmlsZQ%3D%3D?line=16'>17</a>\u001b[0m         found \u001b[39m=\u001b[39m \u001b[39mTrue\u001b[39;00m\n\u001b[1;32m---> <a href='vscode-notebook-cell:/c%3A/Users/borgesv/Desktop/Projects/Work/random/advent_of_code/my_solutions.ipynb#Y140sZmlsZQ%3D%3D?line=17'>18</a>\u001b[0m     idx\u001b[39m+\u001b[39m\u001b[39m=\u001b[39m\u001b[39m1\u001b[39m\n\u001b[0;32m     <a href='vscode-notebook-cell:/c%3A/Users/borgesv/Desktop/Projects/Work/random/advent_of_code/my_solutions.ipynb#Y140sZmlsZQ%3D%3D?line=18'>19</a>\u001b[0m idx\n",
      "\u001b[1;31mKeyboardInterrupt\u001b[0m: "
     ]
    }
   ],
   "source": [
    "directions = input_8[0]\n",
    "coordinates = input_8[2:]\n",
    "#create the dicitonary\n",
    "coordinates_dct = {}\n",
    "for coor in coordinates:\n",
    "    coordinates_dct[coor[:3]] = [coor[7:10],coor[12:15]]\n",
    "\n",
    "found = False\n",
    "idx=0\n",
    "pos_list = [key for key in coordinates_dct.keys() if key.endswith(\"A\")]\n",
    "while not found:\n",
    "    left_or_right = 0 if directions[idx%len(directions)]==\"L\" else 1\n",
    "    pos_list = [coordinates_dct[pos][left_or_right] for pos in pos_list]\n",
    "    if pos_list[5].endswith(\"Z\"):\n",
    "        print(idx+1)\n",
    "    if all(pos.endswith(\"Z\") for pos in pos_list):\n",
    "        found = True\n",
    "    idx+=1\n",
    "idx"
   ]
  },
  {
   "cell_type": "code",
   "execution_count": 274,
   "metadata": {},
   "outputs": [
    {
     "data": {
      "text/plain": [
       "19185263738117"
      ]
     },
     "execution_count": 274,
     "metadata": {},
     "output_type": "execute_result"
    }
   ],
   "source": [
    "math.lcm(16343,16897,21883,20221,19667,13019)"
   ]
  },
  {
   "cell_type": "markdown",
   "metadata": {},
   "source": [
    "## PROBLEM 9"
   ]
  },
  {
   "cell_type": "code",
   "execution_count": null,
   "metadata": {},
   "outputs": [],
   "source": [
    "with open(\"problem9.txt\",\"r\") as f:\n",
    "    input9 = f.read().split(\"\\n\")"
   ]
  },
  {
   "cell_type": "code",
   "execution_count": null,
   "metadata": {},
   "outputs": [],
   "source": [
    "import regex as re"
   ]
  },
  {
   "cell_type": "code",
   "execution_count": null,
   "metadata": {},
   "outputs": [],
   "source": [
    "input9_ex = \"\"\"0 3 6 9 12 15\n",
    "1 3 6 10 15 21\n",
    "10 13 16 21 30 45\"\"\".split(\"\\n\")"
   ]
  },
  {
   "cell_type": "code",
   "execution_count": null,
   "metadata": {},
   "outputs": [
    {
     "data": {
      "text/plain": [
       "['0 3 6 9 12 15', '1 3 6 10 15 21', '10 13 16 21 30 45']"
      ]
     },
     "metadata": {},
     "output_type": "display_data"
    }
   ],
   "source": [
    "input9_ex"
   ]
  },
  {
   "cell_type": "code",
   "execution_count": null,
   "metadata": {},
   "outputs": [
    {
     "data": {
      "text/plain": [
       "[-7,\n",
       " 4,\n",
       " 41,\n",
       " 121,\n",
       " 272,\n",
       " 539,\n",
       " 997,\n",
       " 1790,\n",
       " 3238,\n",
       " 6096,\n",
       " 12113,\n",
       " 25120,\n",
       " 52964,\n",
       " 110690,\n",
       " 225447,\n",
       " 443645,\n",
       " 840883,\n",
       " 1535008,\n",
       " 2702137,\n",
       " 4594155,\n",
       " 7553340]"
      ]
     },
     "metadata": {},
     "output_type": "display_data"
    }
   ],
   "source": [
    "[int(num) for num in re.findall('-?\\d+\\.?\\d*', input9[0])]"
   ]
  },
  {
   "cell_type": "code",
   "execution_count": null,
   "metadata": {},
   "outputs": [
    {
     "name": "stdout",
     "output_type": "stream",
     "text": [
      "[12014121, 3789033, 16147237, 13319687, 1728735, 455975, 8501182, 322, 5078546, 31135546, 21879485, 25553934, 35715502, 188157, -2380, 83713, 31027686, 35641983, 4451339, 73699, 6461975, 2313, 1309, -3147537, 6461808, -2953, 287046, 22607088, 1221340, 11412442, 1826692, 1667715, 4875, 326, 17402602, 65230, -340, 1129188, -4778, 2673213, 29247249, 5726349, 26797945, 1264873, 12657961, 21417326, 20966499, 21369326, 17344326, 27937647, 19933033, 9503222, 21568226, 5498662, 16326105, 13133739, 12342844, 2111920, 16785227, 3720709, 6634547, -29919, 3399, 49049143, 30, 12388665, 8564237, -17413, 24008562, -2350757, 171, 758, -14539, -16, 150146, 25133399, 61621, 15469238, 2171818, 23016, -61, 10858877, 9531271, 28597692, 108296, -2221459, 7968, 15198242, 16959051, 4726, 21143360, 22280967, 16030658, 22793357, 34677702, 26508251, 4963, 19884524, 1495536, 2365378, 10865434, 3013372, 26327643, 25690368, 5336, 24710115, 9790558, 16496, 232, 115, 926811, 19306074, 19066901, 28548842, 34029, 24036106, 20309090, 20554, 14865643, 32796380, 31224751, 381176, 15473715, 11556944, -894, 21228347, 16709622, 26498042, 29653363, 17667828, 15976606, 463734, -27267, 25208050, 16625824, 1785030, 14419452, 11944557, 26693657, 14616533, 2208133, 25061362, 1237536, 10648828, 18198577, 24808421, 20300259, 19993146, 4483251, 3081, 14561784, 5008, 16051171, -101960, 23210948, 12401431, 3136, -190965, -23618, 34250710, 13973617, 13908235, 10799819, 498652, 11407851, 235919, -1437, 24163245, 21545895, -2386, 15077, 192074, 4355874, 282801, 22711801, 536443, 25739592, -644, 70658, 36385903, 753157, 17048779, 77483, -2721, 15693180, 198691, 16359956, 4173308, 25593093, 19275596, 5422130, 113873, 14856508, 174552, 184, 55408, 1080891, 103958, 2586419, 57452]\n"
     ]
    },
    {
     "data": {
      "text/plain": [
       "2105961943"
      ]
     },
     "metadata": {},
     "output_type": "display_data"
    }
   ],
   "source": [
    "predictions = []\n",
    "for line in input9:\n",
    "    numbers_list = [int(num) for num in re.findall('-?\\d+\\.?\\d*', line)]\n",
    "    differences_dct = {0:numbers_list}\n",
    "    diff_list = numbers_list.copy()\n",
    "    idx=1\n",
    "    while not all(num == 0 for num in diff_list):\n",
    "        diff_list = [diff_list[idx+1]-diff_list[idx] for idx in range(len(diff_list)-1)]\n",
    "        differences_dct[idx] = diff_list\n",
    "        idx+=1\n",
    "    #print(differences_dct)\n",
    "    \n",
    "    for new_idx in range(idx-1,0,-1):\n",
    "        if differences_dct[new_idx] == []:\n",
    "            continue\n",
    "        differences_dct[new_idx-1].append(differences_dct[new_idx-1][-1]+differences_dct[new_idx][-1])\n",
    "    #print(differences_dct)\n",
    "    predictions.append(differences_dct[0][-1])\n",
    "    \n",
    "    \n",
    "    \n",
    "print(predictions)\n",
    "sum(predictions)"
   ]
  },
  {
   "cell_type": "code",
   "execution_count": null,
   "metadata": {},
   "outputs": [
    {
     "name": "stdout",
     "output_type": "stream",
     "text": [
      "[-5, 5, -5, -1, 8, 5, -3, 14, 4, 1, 11, -5, 5, 13, 7, 14, 5, 8, 2, -1, 3, 3, 11, -3, 12, 6, 12, 1, -1, -5, 10, 5, 13, -4, 10, 11, 12, 5, 7, 14, -4, 13, 1, 5, 6, 6, 4, 13, 8, 6, -1, 8, 7, 3, 0, 1, 9, 8, 10, -4, -4, 1, 0, -2, 8, 3, 11, 1, 11, -2, -5, 10, 3, 6, -4, 10, -1, -2, 0, 15, 5, 7, 11, 11, 1, 2, 4, 6, 8, -4, -1, 12, 7, 10, 15, -3, 2, 7, 9, 15, -3, 10, -3, 11, 12, 8, 13, 7, 12, 5, 6, 13, 0, 0, -5, -3, 2, -5, 1, 9, -3, 4, 6, 3, 8, 6, 15, -1, 3, 2, 14, 7, 13, 6, -1, 5, 10, 9, -2, 3, 12, 10, 3, 9, 5, 14, 0, 11, -2, 12, 9, 3, 0, 10, 3, 10, 12, 6, -1, 13, 15, 2, 11, 11, 6, 13, 15, -4, 4, 1, -4, 14, -5, 13, 10, 6, 13, 5, 5, -2, 9, 13, -1, -4, 1, -2, 6, -4, 3, 5, -1, 12, 2, 4, 8, 1, 9, -3, 0, 10]\n"
     ]
    },
    {
     "data": {
      "text/plain": [
       "1019"
      ]
     },
     "metadata": {},
     "output_type": "display_data"
    }
   ],
   "source": [
    "predictions = []\n",
    "for line in input9:\n",
    "    numbers_list = [int(num) for num in re.findall('-?\\d+\\.?\\d*', line)]\n",
    "    differences_dct = {0:numbers_list}\n",
    "    diff_list = numbers_list.copy()\n",
    "    idx=1\n",
    "    while not all(num == 0 for num in diff_list):\n",
    "        diff_list = [diff_list[idx+1]-diff_list[idx] for idx in range(len(diff_list)-1)]\n",
    "        differences_dct[idx] = diff_list\n",
    "        idx+=1\n",
    "    #print(differences_dct)\n",
    "    \n",
    "    for new_idx in range(idx-1,0,-1):\n",
    "        if differences_dct[new_idx] == []:\n",
    "            continue\n",
    "        differences_dct[new_idx-1].insert(0,differences_dct[new_idx-1][0]-differences_dct[new_idx][0])\n",
    "    predictions.append(differences_dct[0][0])\n",
    "    \n",
    "    \n",
    "    \n",
    "print(predictions)\n",
    "sum(predictions)"
   ]
  },
  {
   "cell_type": "markdown",
   "metadata": {},
   "source": [
    "## PROBLEM 10"
   ]
  },
  {
   "cell_type": "code",
   "execution_count": null,
   "metadata": {},
   "outputs": [],
   "source": [
    "with open(\"problem10.txt\",\"r\") as f:\n",
    "    input10= f.read().split(\"\\n\")"
   ]
  },
  {
   "cell_type": "code",
   "execution_count": null,
   "metadata": {},
   "outputs": [],
   "source": [
    "\n",
    "for idx_row, line in enumerate(input10):\n",
    "    line_split = [c for c in line]\n",
    "    for idx_col,element in enumerate(line_split):\n",
    "        if element == \"S\":\n",
    "            s_coord = [idx_row, idx_col]\n",
    "\n",
    "#last move given\n",
    "directions_dct = {\"|\":[[-1,0],[1,0]],\n",
    "                  \"-\":[[0,1],[0,-1]],\n",
    "                  \"L\":[[0,1],[-1,0]],\n",
    "                  \"J\": [[-1,0],[0,-1]],\n",
    "                  \"7\":[[1,0],[0,-1]],\n",
    "                  \"F\":[[0,1],[1,0]]}\n",
    "\n"
   ]
  },
  {
   "cell_type": "code",
   "execution_count": null,
   "metadata": {},
   "outputs": [
    {
     "name": "stdout",
     "output_type": "stream",
     "text": [
      "F [-1, 0] [[0, 1], [1, 0]]\n",
      "| [1, 0] [[-1, 0], [1, 0]]\n",
      "[-1, 0]\n",
      "J [0, -1] [[-1, 0], [0, -1]]\n",
      "[0, 1]\n",
      "7 [0, 1] [[1, 0], [0, -1]]\n"
     ]
    }
   ],
   "source": [
    "found = False\n",
    "live_coord = s_coord.copy()\n",
    "#check if it is connected to S\n",
    "path_len = 0\n",
    "for c in [[1,0],[-1,0],[0,1],[0,-1]]:\n",
    "    pipe = input10[s_coord[0]+c[0]][s_coord[1]+c[1]]\n",
    "    if [-d for d in c] in directions_dct[pipe]:\n",
    "        live_coord = [s_coord[0]+c[0],s_coord[1]+c[1]]\n",
    "        path_len +=1\n",
    "        last_move = [-d for d in c]\n",
    "        print(c)\n",
    "\n",
    "#while found:\n",
    "\n"
   ]
  },
  {
   "cell_type": "markdown",
   "metadata": {},
   "source": [
    "## PROBLEM 11"
   ]
  },
  {
   "cell_type": "code",
   "execution_count": 1,
   "metadata": {},
   "outputs": [],
   "source": [
    "with open(\"problem11.txt\", \"r\") as f:\n",
    "    input11 = f.read().split(\"\\n\")"
   ]
  },
  {
   "cell_type": "code",
   "execution_count": 21,
   "metadata": {},
   "outputs": [],
   "source": [
    "input11_ex = \"\"\"...#......\n",
    ".......#..\n",
    "#.........\n",
    "..........\n",
    "......#...\n",
    ".#........\n",
    ".........#\n",
    "..........\n",
    ".......#..\n",
    "#...#.....\n",
    "\"\"\".split(\"\\n\")[:-1]"
   ]
  },
  {
   "cell_type": "code",
   "execution_count": 33,
   "metadata": {},
   "outputs": [],
   "source": [
    "file = input11"
   ]
  },
  {
   "cell_type": "code",
   "execution_count": 34,
   "metadata": {},
   "outputs": [],
   "source": [
    "galaxies_coordinates = []\n",
    "rows_expanded = []\n",
    "cols_expanded = []\n",
    "for idx_row, line in enumerate(file):\n",
    "    line = list(line)\n",
    "    galaxies_found = [[idx_row,idx_col] for idx_col,x in enumerate(line) if x==\"#\"]\n",
    "    if galaxies_found == []:\n",
    "        rows_expanded.append(idx_row)\n",
    "    else:\n",
    "        galaxies_coordinates.extend([[idx_row,idx_col] for idx_col,x in enumerate(line) if x==\"#\"])\n",
    "\n",
    "for idx_col in range(len(file[0])):\n",
    "    full_col = [list(line)[idx_col] for line in file]\n",
    "    if \"#\" not in full_col:\n",
    "        cols_expanded.append(idx_col)\n",
    "    "
   ]
  },
  {
   "cell_type": "code",
   "execution_count": 13,
   "metadata": {},
   "outputs": [
    {
     "data": {
      "text/plain": [
       "430"
      ]
     },
     "execution_count": 13,
     "metadata": {},
     "output_type": "execute_result"
    }
   ],
   "source": [
    "len(galaxies_coordinates)"
   ]
  },
  {
   "cell_type": "code",
   "execution_count": 35,
   "metadata": {},
   "outputs": [
    {
     "data": {
      "text/plain": [
       "593821230983"
      ]
     },
     "execution_count": 35,
     "metadata": {},
     "output_type": "execute_result"
    }
   ],
   "source": [
    "galaxies_distances = []\n",
    "idx=0\n",
    "for gal1 in galaxies_coordinates:\n",
    "    for gal2 in galaxies_coordinates:\n",
    "        row = 0\n",
    "        col = 0\n",
    "        for idx_row in rows_expanded:\n",
    "            if (idx_row-gal1[0])*(idx_row-gal2[0])<0:\n",
    "                row+=999999\n",
    "        for idx_col in cols_expanded:\n",
    "            if (idx_col-gal1[1])*(idx_col-gal2[1])<0:\n",
    "                col+=999999\n",
    "\n",
    "        galaxies_distances.append(abs(gal1[0]-gal2[0])+abs(gal1[1]-gal2[1]) + row + col)\n",
    "        idx+=1\n",
    "    idx+=1\n",
    "sum(galaxies_distances)//2"
   ]
  },
  {
   "cell_type": "markdown",
   "metadata": {},
   "source": [
    "## PROBLEM 12"
   ]
  },
  {
   "cell_type": "code",
   "execution_count": 1,
   "metadata": {},
   "outputs": [],
   "source": [
    "with open(\"problem12.txt\") as f:\n",
    "    input12 = f.read().split(\"\\n\")"
   ]
  },
  {
   "cell_type": "code",
   "execution_count": 2,
   "metadata": {},
   "outputs": [],
   "source": [
    "input12_ex =\"\"\"???.### 1,1,3\n",
    ".??..??...?##. 1,1,3\n",
    "?#?#?#?#?#?#?#? 1,3,1,6\n",
    "????.#...#... 4,1,1\n",
    "????.######..#####. 1,6,5\n",
    "?###???????? 3,2,1\"\"\".split(\"\\n\")"
   ]
  },
  {
   "cell_type": "code",
   "execution_count": 3,
   "metadata": {},
   "outputs": [],
   "source": [
    "import regex as re"
   ]
  },
  {
   "cell_type": "code",
   "execution_count": 4,
   "metadata": {},
   "outputs": [
    {
     "data": {
      "text/plain": [
       "['???.### 1,1,3',\n",
       " '.??..??...?##. 1,1,3',\n",
       " '?#?#?#?#?#?#?#? 1,3,1,6',\n",
       " '????.#...#... 4,1,1',\n",
       " '????.######..#####. 1,6,5',\n",
       " '?###???????? 3,2,1']"
      ]
     },
     "execution_count": 4,
     "metadata": {},
     "output_type": "execute_result"
    }
   ],
   "source": [
    "input12_ex"
   ]
  },
  {
   "cell_type": "code",
   "execution_count": 5,
   "metadata": {},
   "outputs": [],
   "source": [
    "def generate_combinations(strings, n, memo={}):\n",
    "    # Convert the list to a tuple to use it as a hashable key for memoization\n",
    "    key = (tuple(strings), n)\n",
    "\n",
    "    # Check if the result is already memoized\n",
    "    if key in memo:\n",
    "        return memo[key]\n",
    "\n",
    "    # Base case: if n is 0, return the original list\n",
    "    if n == 0:\n",
    "        return [strings]\n",
    "    \n",
    "    # Find the indices of strings without '#'\n",
    "    indices_without_hashtag = [i for i, s in enumerate(strings) if '#' not in s]\n",
    "\n",
    "    # Initialize the list to store all combinations\n",
    "    combinations = []\n",
    "\n",
    "    # Recursively generate combinations by adding '.' to strings without '#'\n",
    "    for index in indices_without_hashtag:\n",
    "        new_strings = strings.copy()\n",
    "        new_strings[index] += '.'\n",
    "        combinations += generate_combinations(new_strings, n - 1, memo)\n",
    "\n",
    "    # Memoize the result before returning\n",
    "    memo[key] = combinations\n",
    "    return combinations"
   ]
  },
  {
   "cell_type": "code",
   "execution_count": null,
   "metadata": {},
   "outputs": [],
   "source": []
  },
  {
   "cell_type": "code",
   "execution_count": 6,
   "metadata": {},
   "outputs": [],
   "source": [
    "def strings_equal(string1, string2):\n",
    "    if len(string1) != len(string2):\n",
    "        return False\n",
    "\n",
    "    for char1, char2 in zip(string1, string2):\n",
    "        if char1 != char2 and char2 != '?':\n",
    "            return False\n",
    "\n",
    "    return True"
   ]
  },
  {
   "cell_type": "code",
   "execution_count": 7,
   "metadata": {},
   "outputs": [
    {
     "data": {
      "text/plain": [
       "1000"
      ]
     },
     "execution_count": 7,
     "metadata": {},
     "output_type": "execute_result"
    }
   ],
   "source": [
    "len(input12)"
   ]
  },
  {
   "cell_type": "code",
   "execution_count": 7,
   "metadata": {},
   "outputs": [
    {
     "name": "stdout",
     "output_type": "stream",
     "text": [
      "???.###???.###???.###???.###???.###\n",
      "1,1,3,1,1,3,1,1,3,1,1,3,1,1,3,\n"
     ]
    }
   ],
   "source": [
    "for line in input12_ex:\n",
    "    original_string = line.split(\" \")\n",
    "    print(5*original_string[0])\n",
    "    print(5*(original_string[1]+\",\"))\n",
    "    break"
   ]
  },
  {
   "cell_type": "code",
   "execution_count": 7,
   "metadata": {},
   "outputs": [
    {
     "name": "stdout",
     "output_type": "stream",
     "text": [
      "0\n",
      "1\n",
      "2\n",
      "3\n",
      "4\n",
      "5\n"
     ]
    },
    {
     "data": {
      "text/plain": [
       "21"
      ]
     },
     "execution_count": 7,
     "metadata": {},
     "output_type": "execute_result"
    }
   ],
   "source": [
    "poss_list = []\n",
    "idx=0\n",
    "for line in input12_ex:\n",
    "    original_string = line.split(\" \")\n",
    "    \n",
    "    len_string = len(original_string[0])\n",
    "    extra_dots = 0\n",
    "    if original_string[0].startswith(\"#\"):\n",
    "        test_string = []\n",
    "    elif original_string[0].startswith(\".\"):\n",
    "        test_string = [\".\"]\n",
    "        extra_dots+=1\n",
    "    else:\n",
    "        test_string = [\"\"]\n",
    "    numbers_list = [int(number) for number in re.findall('[0-9]+', original_string[1])]\n",
    "    \n",
    "    for number in numbers_list:\n",
    "        test_string.append(number*\"#\")\n",
    "        test_string.append(\".\")\n",
    "    test_string = test_string[:-1]\n",
    "    if original_string[0].endswith(\".\"):\n",
    "        test_string.append(\".\")\n",
    "        extra_dots+=1\n",
    "    elif not original_string[0].endswith(\"#\"):\n",
    "        test_string.append(\"\")\n",
    "\n",
    "    candidates = generate_combinations(test_string, len_string-sum(numbers_list) - (len(numbers_list)-1) - extra_dots)\n",
    "    print(idx)\n",
    "    idx+=1\n",
    "    string_candidates = list(set([\"\".join(cand) for cand in candidates]))\n",
    "    #print(test_string, len_string-sum(numbers_list) - (len(numbers_list)-1), string_candidates)\n",
    "    possibilities = 0\n",
    "    for cand in string_candidates:\n",
    "        if strings_equal(cand, original_string[0]):\n",
    "            possibilities += 1\n",
    "    poss_list.append(possibilities)\n",
    "sum(poss_list)    "
   ]
  },
  {
   "cell_type": "code",
   "execution_count": 79,
   "metadata": {},
   "outputs": [
    {
     "data": {
      "text/plain": [
       "10"
      ]
     },
     "execution_count": 79,
     "metadata": {},
     "output_type": "execute_result"
    }
   ],
   "source": [
    "len(line1[0])"
   ]
  },
  {
   "cell_type": "code",
   "execution_count": 80,
   "metadata": {},
   "outputs": [
    {
     "data": {
      "text/plain": [
       "['.####.####', '####..####', '####.####.']"
      ]
     },
     "execution_count": 80,
     "metadata": {},
     "output_type": "execute_result"
    }
   ],
   "source": [
    "string_candidates"
   ]
  },
  {
   "cell_type": "code",
   "execution_count": 35,
   "metadata": {},
   "outputs": [
    {
     "data": {
      "text/plain": [
       "['', '####', '.', '####', '']"
      ]
     },
     "execution_count": 35,
     "metadata": {},
     "output_type": "execute_result"
    }
   ],
   "source": [
    "test_string"
   ]
  },
  {
   "cell_type": "code",
   "execution_count": 29,
   "metadata": {},
   "outputs": [
    {
     "data": {
      "text/plain": [
       "['', '####', '.', '####', '']"
      ]
     },
     "execution_count": 29,
     "metadata": {},
     "output_type": "execute_result"
    }
   ],
   "source": [
    "test_string"
   ]
  },
  {
   "cell_type": "code",
   "execution_count": 24,
   "metadata": {},
   "outputs": [
    {
     "data": {
      "text/plain": [
       "8"
      ]
     },
     "execution_count": 24,
     "metadata": {},
     "output_type": "execute_result"
    }
   ],
   "source": [
    "sum([int(number) for number in re.findall('[0-9]+', line1[1])])"
   ]
  },
  {
   "cell_type": "code",
   "execution_count": 32,
   "metadata": {},
   "outputs": [],
   "source": []
  },
  {
   "cell_type": "code",
   "execution_count": null,
   "metadata": {},
   "outputs": [],
   "source": [
    "#criar funcao que gera os números de uma string the # e .\n",
    "#gerar todas as cobinacoes "
   ]
  },
  {
   "cell_type": "code",
   "execution_count": 48,
   "metadata": {},
   "outputs": [
    {
     "data": {
      "text/plain": [
       "[['..', '####', '.', '####', ''],\n",
       " ['.', '####', '..', '####', ''],\n",
       " ['.', '####', '.', '####', '.'],\n",
       " ['.', '####', '..', '####', ''],\n",
       " ['', '####', '...', '####', ''],\n",
       " ['', '####', '..', '####', '.'],\n",
       " ['.', '####', '.', '####', '.'],\n",
       " ['', '####', '..', '####', '.'],\n",
       " ['', '####', '.', '####', '..']]"
      ]
     },
     "execution_count": 48,
     "metadata": {},
     "output_type": "execute_result"
    }
   ],
   "source": [
    "sum(result,[])"
   ]
  },
  {
   "cell_type": "markdown",
   "metadata": {},
   "source": [
    "## PROBLEM 13"
   ]
  },
  {
   "cell_type": "code",
   "execution_count": 4,
   "metadata": {},
   "outputs": [],
   "source": [
    "import regex as re\n",
    "from itertools import groupby\n",
    "\n",
    "\n"
   ]
  },
  {
   "cell_type": "code",
   "execution_count": 226,
   "metadata": {},
   "outputs": [],
   "source": [
    "with open(\"problem13.txt\") as f:\n",
    "    input13_read = re.split(\"\\n\",f.read())\n",
    "    input13 = [list(group) for key, group in groupby(input13_read, lambda x: x != \"\") if key]"
   ]
  },
  {
   "cell_type": "code",
   "execution_count": 171,
   "metadata": {},
   "outputs": [],
   "source": [
    "input13_ex_read = \"\"\"#.##..##.\n",
    "..#.##.#.\n",
    "##......#\n",
    "##......#\n",
    "..#.##.#.\n",
    "..##..##.\n",
    "#.#.##.#.\n",
    "\n",
    "#...##..#\n",
    "#....#..#\n",
    "..##..###\n",
    "#####.##.\n",
    "#####.##.\n",
    "..##..###\n",
    "#....#..#\"\"\".split(\"\\n\")\n",
    "input13_ex = [list(group) for key, group in groupby(input13_ex_read, lambda x: x != \"\") if key]"
   ]
  },
  {
   "cell_type": "code",
   "execution_count": 215,
   "metadata": {},
   "outputs": [],
   "source": [
    "cols = [\"\".join([str(line[idx]) for line in input13[9]]) for idx in range(len(list(input13[9][0])))]"
   ]
  },
  {
   "cell_type": "code",
   "execution_count": 172,
   "metadata": {},
   "outputs": [
    {
     "name": "stdout",
     "output_type": "stream",
     "text": [
      "[1300, 6, 14, 1200, 200, 1, 8, 1400, 1, 600, 100, 2, 200, 3, 10, 100, 5, 11, 9, 14, 300, 1100, 14, 400, 5, 100, 2, 6, 1100, 12, 1, 100, 12, 100, 1, 300, 600, 300, 800, 200, 1100, 100, 2, 2, 300, 14, 500, 1400, 600, 800, 1, 10, 100, 3, 8, 600, 5, 100, 300, 10, 1, 11, 1200, 100, 10, 15, 8, 200, 14, 1, 300, 100, 900, 1100, 9, 300, 1, 7, 1, 12, 12, 800, 16, 2, 200, 8, 500, 100, 100, 1400, 1, 1400, 4, 11, 1500, 2, 4, 10, 3, 2]\n"
     ]
    },
    {
     "data": {
      "text/plain": [
       "26957"
      ]
     },
     "execution_count": 172,
     "metadata": {},
     "output_type": "execute_result"
    }
   ],
   "source": [
    "values = []\n",
    "for idx_group , group in enumerate(input13):\n",
    "    mirror = False\n",
    "    group_len = len(group)\n",
    "    row_value = 0\n",
    "    #rows\n",
    "    for idx in range(group_len-1):\n",
    "        if group[idx] == group[idx + 1]:\n",
    "            if idx <= group_len/2-1:\n",
    "                end = idx+1\n",
    "            else:\n",
    "                end = group_len - (idx+1)\n",
    "            for j in range(1,end):\n",
    "                # print(idx-j,idx+1+j)\n",
    "                # print(group[idx-j])\n",
    "                if group[idx-j]!=group[idx+1+j]:\n",
    "                    mirror = False\n",
    "                    break\n",
    "                else:\n",
    "                    mirror = True\n",
    "\n",
    "            if mirror or end == 1:\n",
    "                row_value = 100*(idx+1)\n",
    "                #print(row_value)\n",
    "\n",
    "    \n",
    "    #cols\n",
    "    group_col_len = len(group[0])\n",
    "    cols = [\"\".join([str(line[idx]) for line in group]) for idx in range(len(list(group[0])))]\n",
    "    col_value = 0\n",
    "    for idx in range(group_col_len-1):\n",
    "        if cols[idx] == cols[idx + 1]:\n",
    "            if idx <= group_col_len/2-1:\n",
    "                end = idx+1\n",
    "            else:\n",
    "                end = group_col_len - (idx+1)\n",
    "\n",
    "            #print(end)\n",
    "            for j in range(1,end):\n",
    "                #print(j)\n",
    "                if cols[idx-j]!=cols[idx+1+j]:\n",
    "\n",
    "                    mirror = False\n",
    "                    break\n",
    "                else:\n",
    "                    mirror = True\n",
    "\n",
    "            if mirror or end == 1:\n",
    "                col_value = idx+1\n",
    "\n",
    "\n",
    "    #print(row_value+col_value)\n",
    "    values.append(row_value+col_value)\n",
    "print(values)\n",
    "sum(values)\n",
    "        \n",
    "\n",
    "\n",
    "                \n",
    "\n"
   ]
  },
  {
   "cell_type": "code",
   "execution_count": 126,
   "metadata": {},
   "outputs": [],
   "source": [
    "def differ_by_one(str1, str2):\n",
    "\n",
    "    if str1 == str2:\n",
    "        return True, 0\n",
    "    differences = [(i, char1, char2) for i, (char1, char2) in enumerate(zip(str1, str2)) if char1 != char2]\n",
    "\n",
    "    if len(differences) == 1:\n",
    "        return True ,1\n",
    "    else:\n",
    "        return False, len(differences)"
   ]
  },
  {
   "cell_type": "code",
   "execution_count": 163,
   "metadata": {},
   "outputs": [],
   "source": [
    "input13_ex_read = \"\"\"#.##..##.\n",
    "..#.##.#.\n",
    "##......#\n",
    "##......#\n",
    "..#.##.#.\n",
    "..##..##.\n",
    "#.#.##.#.\n",
    "\n",
    "#...##..#\n",
    "#....#..#\n",
    "..##..###\n",
    "#####.##.\n",
    "#####.##.\n",
    "..##..###\n",
    "#....#..#\"\"\".split(\"\\n\")\n",
    "input13_ex = [list(group) for key, group in groupby(input13_ex_read, lambda x: x != \"\") if key]"
   ]
  },
  {
   "cell_type": "code",
   "execution_count": 227,
   "metadata": {},
   "outputs": [
    {
     "name": "stdout",
     "output_type": "stream",
     "text": [
      "['##...###..#.###', '##...###..#.##.', '##...###..#.##.', '##...###..#.###', '...###..###..#.', '#.###.##....#.#', '.#.#.#...#.#..#']\n",
      "['####.##.####..#', '.##..##..##..#.', '#..#....#..#...', '.##......##...#', '.####..####....', '.....##.....#.#', '#..#....#..#...', '####.##.#######', '....####....#.#']\n",
      "['....#.##.####', '#.##.#...#...', '..####..#..##', '##...#...#.##', '#.####..##.##', '###..######..', '###..######..']\n",
      "['.##....', '.#.#...', '#..####', '#..####', '.#.#...', '.##....', '...#..#']\n",
      "['.###.###...', '##..#...##.', '.##.#.....#', '...#...#...', '##.#...#.#.', '##.#...#.#.', '...#...#...', '.##.#.....#', '##..#...##.', '.###.###...', '#.##.##.##.', '#.##.##.##.', '.###.###...']\n",
      "['..##...#..##...##', '.......#.#.##.#.#', '......#..###.#.#.', '......#####.#..##', '##..##.#####..###', '##..###.#.###.#.#', '.......#.#.##..##', '..##...#.#.#.##.#', '##..##..#..##.#.#', '##..####.##.#.###', '##..###.#.#.##..#', '.......#..#.##.#.', '..##...##.#.#.###', '##..##.######.#..', '.#..#.##.##..##..', '..##......##.#.##', '..##..#..#.....#.']\n",
      "['.###.####..', '.########..', '.###..###.#', '##########.', '.###..###..', '.###..###..', '##########.', '.###..###.#', '.########..', '.###.####..', '#...##...##']\n",
      "['.###.####..', '.########..', '.###..###.#', '##########.', '.###..###..', '.###..###..', '##########.', '.###..###.#', '.########..', '.###.####..', '#...##...##']\n",
      "['.###.####..', '.########..', '.###..###.#', '##########.', '.###..###..', '.###..###..', '##########.', '.###..###.#', '.########..', '.###.####..', '#...##...##']\n",
      "['.###.####..', '.########..', '.###..###.#', '##########.', '.###..###..', '.###..###..', '##########.', '.###..###.#', '.########..', '.###.####..', '#...##...##']\n",
      "['##..###.####.', '..##..#.#..#.', '#########.#..', '######.##..#.', '######.....#.', '######..#..#.', '..##......#.#', '##..####...#.', '##########.#.', '##..##.####..', '..##...###...', '......##.#.##', '......###.###', '#######.#####', '######...#.##', '#.##.###.##..', '..##..###.#..']\n",
      "[600, 1300, 7, 100, 100, 7, 3, 700, 700, 3, 4, 100, 900, 1200, 1000, 6, 11, 15, 12, 4, 3, 300, 6, 100, 200, 700, 100, 2, 1400, 6, 800, 800, 600, 700, 1000, 6, 4, 7, 1600, 1200, 500, 8, 14, 800, 1100, 100, 1300, 15, 5, 9, 8, 5, 800, 1, 800, 8, 800, 800, 1000, 3, 7, 15, 2, 9, 700, 6, 900, 10, 4, 600, 1100, 800, 4, 400, 10, 5, 8, 12, 1200, 4, 1100, 300, 7, 800, 1400, 1400, 100, 600, 800, 500, 600, 600, 500, 5, 700, 900, 1200, 4, 1, 1000]\n"
     ]
    },
    {
     "data": {
      "text/plain": [
       "42695"
      ]
     },
     "execution_count": 227,
     "metadata": {},
     "output_type": "execute_result"
    }
   ],
   "source": [
    "new_values = []\n",
    "for idx_group , group in enumerate(input13):\n",
    "    original = group.copy()\n",
    "    mirror = False\n",
    "    group_len = len(group)\n",
    "    row_value = 0\n",
    "    #rows\n",
    "    done = False\n",
    "    for idx in range(group_len-1):\n",
    "        total_diff = 0\n",
    "        valid, differences = differ_by_one(group[idx], group[idx + 1])\n",
    "        #print(differences)\n",
    "        if valid:\n",
    "            if differences == 1:\n",
    "                group[idx + 1] = group[idx]\n",
    "                total_diff +=1\n",
    "\n",
    "            if idx <= group_len/2-1:\n",
    "                end = idx+1\n",
    "            else:\n",
    "                end = group_len - (idx+1)\n",
    "            #print(idx_group,end)\n",
    "            for j in range(1,end):\n",
    "                # print(idx-j,idx+1+j)\n",
    "                # print(group[idx-j])\n",
    "                #print(\"total dif\", total_diff)\n",
    "                #print(total_diff, \"row\")\n",
    "                if total_diff ==1:\n",
    "                    #print(\"diff\")\n",
    "                    if group[idx-j]!=group[idx+1+j]:\n",
    "                        mirror = False\n",
    "                        group = original.copy()\n",
    "                        break\n",
    "                    else:\n",
    "                        mirror = True\n",
    "                else:\n",
    "                    #print(group[idx-j],group[idx+1+j])\n",
    "                    valid, differences = differ_by_one(group[idx-j], group[idx+1+j])\n",
    "                    #print(\"inside\", differences)\n",
    "                    if valid:\n",
    "                        if differences == 1:\n",
    "                            group[idx+1+j] = group[idx-j]\n",
    "                            total_diff +=1\n",
    "                        mirror = True\n",
    "                    else:\n",
    "                        mirror = False\n",
    "                        group = original.copy()\n",
    "                        break\n",
    "                #print(mirror,j)\n",
    "            #print(idx_group,mirror)        \n",
    "            #print(group)\n",
    "\n",
    "            if (mirror or end == 1) and total_diff == 1 and not done:\n",
    "                \n",
    "                row_value = 100*(idx+1)\n",
    "                done = True\n",
    "                #print(row_value)\n",
    "            #print(row_value)\n",
    "    \n",
    "    #cols\n",
    "    group_col_len = len(group[0])\n",
    "    cols = [\"\".join([str(line[idx]) for line in group]) for idx in range(len(list(group[0])))]\n",
    "    original_cols = cols.copy()\n",
    "    col_value = 0\n",
    "    done = False\n",
    "    for idx in range(group_col_len-1):\n",
    "\n",
    "        total_diff = 0\n",
    "        valid, differences = differ_by_one(cols[idx], cols[idx + 1])\n",
    "        #print(cols[idx], valid, differences)\n",
    "        if valid:\n",
    "            if differences == 1:\n",
    "                \n",
    "                cols[idx + 1] = cols[idx]\n",
    "                total_diff +=1\n",
    "\n",
    "            if idx <= group_col_len/2-1:\n",
    "                end = idx+1\n",
    "            else:\n",
    "                end = group_col_len - (idx+1)\n",
    "\n",
    "            #print(end)\n",
    "            for j in range(1,end):\n",
    "                #print(j)\n",
    "                #print(total_diff, \"col\")\n",
    "                if total_diff ==1:\n",
    "                    if cols[idx-j]!=cols[idx+1+j]:\n",
    "\n",
    "                        mirror = False\n",
    "                        cols = original_cols.copy()\n",
    "                        #print(cols)\n",
    "                        break\n",
    "                    else:\n",
    "                        mirror = True\n",
    "                else:\n",
    "                    valid, differences = differ_by_one(cols[idx-j], cols[idx+1+j])\n",
    "                    if valid:\n",
    "                        if differences == 1:\n",
    "                            \n",
    "                            cols[idx+1+j] = cols[idx-j]\n",
    "                            total_diff +=1\n",
    "                        mirror = True\n",
    "                    else:\n",
    "                        mirror = False\n",
    "                        \n",
    "                        cols = original_cols.copy()\n",
    "                        print(group)\n",
    "                        break\n",
    "\n",
    "            if (mirror or end == 1) and total_diff == 1 and not done:\n",
    "                col_value = idx+1\n",
    "                done = True\n",
    "\n",
    "\n",
    "    #print(row_value+col_value)\n",
    "    new_values.append(row_value+col_value)\n",
    "print(new_values)\n",
    "sum(new_values)\n",
    "        \n",
    "\n",
    "\n",
    "                \n",
    "\n"
   ]
  },
  {
   "cell_type": "markdown",
   "metadata": {},
   "source": [
    "## PROBLEM 14"
   ]
  },
  {
   "cell_type": "code",
   "execution_count": 1,
   "metadata": {},
   "outputs": [],
   "source": [
    "with open(\"problem14.txt\") as f:\n",
    "    input14 = f.read().split(\"\\n\")"
   ]
  },
  {
   "cell_type": "code",
   "execution_count": 83,
   "metadata": {},
   "outputs": [],
   "source": [
    "input14_ex = \"\"\"O....#....\n",
    "O.OO#....#\n",
    ".....##...\n",
    "OO.#O....O\n",
    ".O.....O#.\n",
    "O.#..O.#.#\n",
    "..O..#O..O\n",
    ".......O..\n",
    "#....###..\n",
    "#OO..#....\"\"\".split(\"\\n\")"
   ]
  },
  {
   "cell_type": "code",
   "execution_count": 101,
   "metadata": {},
   "outputs": [
    {
     "data": {
      "text/plain": [
       "108614"
      ]
     },
     "execution_count": 101,
     "metadata": {},
     "output_type": "execute_result"
    }
   ],
   "source": [
    "file = input14\n",
    "cols = [[\"#\"]+[ele[idx] for ele in file]+ [\"#\"] for idx in range(len(file[0]))]\n",
    "#final_cols = [[ele.replace(\"O\",\".\") for ele in col] for col in cols]\n",
    "final_sum = 0\n",
    "for col in cols:\n",
    "    cube_ocurrences = [idx for idx,ele in enumerate(col) if ele==\"#\"]\n",
    "    #print(cube_ocurrences)\n",
    "    #print(len(col))\n",
    "    for i,idx_cube in enumerate(cube_ocurrences[:-1]):\n",
    "        rounds_count = col[idx_cube:cube_ocurrences[i+1]].count(\"O\")\n",
    "\n",
    "        final_sum+= sum(list(range(len(col)-idx_cube-2,len(col)-idx_cube-2-rounds_count,-1)))\n",
    "    #print(final_sum)\n",
    "final_sum\n"
   ]
  },
  {
   "cell_type": "code",
   "execution_count": 102,
   "metadata": {},
   "outputs": [],
   "source": [
    "new_rows = [[\"#\"]+[ele[idx] for ele in cols]+ [\"#\"] for idx in range(len(cols[0]))]"
   ]
  },
  {
   "cell_type": "code",
   "execution_count": 103,
   "metadata": {},
   "outputs": [],
   "source": [
    "# do 1 cycle\n",
    "current_disposition = new_rows.copy()\n",
    "\n",
    "total_points_list = []\n",
    "\n",
    "\n",
    "for idx in range(500):\n",
    "    #north\n",
    "    new_cols =[[ele[idx] for ele in current_disposition] for idx in range(len(current_disposition))]\n",
    "    next_cols = [[ele.replace(\"O\",\".\") for ele in col] for col in new_cols]\n",
    "\n",
    "    for idx_col, col in enumerate(new_cols[1:-1]):\n",
    "        cube_ocurrences = [idx for idx,ele in enumerate(col) if ele==\"#\"]\n",
    "        for i,idx_cube in enumerate(cube_ocurrences[:-1]):\n",
    "            rounds_count = col[idx_cube:cube_ocurrences[i+1]].count(\"O\")\n",
    "            for j in range(rounds_count):\n",
    "                next_cols[idx_col+1][idx_cube + 1 + j] = \"O\"\n",
    "\n",
    "    current_disposition =[[ele[idx] for ele in next_cols] for idx in range(len(next_cols[0]))]\n",
    "\n",
    "    # #west\n",
    "    next_rows = [[ele.replace(\"O\",\".\") for ele in row] for row in current_disposition]\n",
    "    for idx_row, row in enumerate(current_disposition[1:-1]):\n",
    "        cube_ocurrences = [idx for idx,ele in enumerate(row) if ele==\"#\"]\n",
    "        for i,idx_cube in enumerate(cube_ocurrences[:-1]):\n",
    "            rounds_count = row[idx_cube:cube_ocurrences[i+1]].count(\"O\")\n",
    "            for j in range(rounds_count):\n",
    "                next_rows[idx_row+1][idx_cube + 1 + j] = \"O\"\n",
    "\n",
    "    current_disposition = next_rows.copy()\n",
    "\n",
    "    # #south\n",
    "    new_cols =[[ele[idx] for ele in current_disposition] for idx in range(len(current_disposition))]\n",
    "    next_cols = [[ele.replace(\"O\",\".\") for ele in col] for col in new_cols]\n",
    "\n",
    "    for idx_col, col in enumerate(new_cols[1:-1]):\n",
    "        cube_ocurrences = [idx for idx,ele in enumerate(col) if ele==\"#\"][::-1]\n",
    "        for i,idx_cube in enumerate(cube_ocurrences[:-1]):\n",
    "            rounds_count = col[cube_ocurrences[i+1]:idx_cube].count(\"O\")\n",
    "            for j in range(rounds_count):\n",
    "                next_cols[idx_col+1][idx_cube - 1 - j] = \"O\"\n",
    "\n",
    "    current_disposition =[[ele[idx] for ele in next_cols] for idx in range(len(next_cols[0]))]\n",
    "\n",
    "    # #east\n",
    "    next_rows = [[ele.replace(\"O\",\".\") for ele in row] for row in current_disposition]\n",
    "    for idx_row, row in enumerate(current_disposition[1:-1]):\n",
    "        cube_ocurrences = [idx for idx,ele in enumerate(row) if ele==\"#\"][::-1]\n",
    "        for i,idx_cube in enumerate(cube_ocurrences[:-1]):\n",
    "            rounds_count = row[cube_ocurrences[i+1]:idx_cube].count(\"O\")\n",
    "            for j in range(rounds_count):\n",
    "                next_rows[idx_row+1][idx_cube - 1 - j] = \"O\"\n",
    "\n",
    "    current_disposition = next_rows.copy()\n",
    "    #print(total_load(current_disposition), idx + 1)\n",
    "    total_points_list.append(total_load(current_disposition))\n",
    "# total_load(current_disposition)\n"
   ]
  },
  {
   "cell_type": "code",
   "execution_count": 63,
   "metadata": {},
   "outputs": [],
   "source": [
    "occurrences = {}\n",
    "\n",
    "for number in total_points_list:\n",
    "    if number in occurrences:\n",
    "        occurrences[number] += 1\n",
    "    else:\n",
    "        occurrences[number] = 1\n",
    "\n"
   ]
  },
  {
   "cell_type": "code",
   "execution_count": 6,
   "metadata": {},
   "outputs": [],
   "source": [
    "def total_load(current_disposition):\n",
    "    total_sum = 0\n",
    "    cols =[[ele[idx] for ele in current_disposition] for idx in range(len(current_disposition))]\n",
    "    for col in cols:\n",
    "        for idx, ele in enumerate(col):\n",
    "            if ele == \"O\":\n",
    "                total_sum+= (len(col)-2)-(idx-1)\n",
    "    return total_sum"
   ]
  },
  {
   "cell_type": "markdown",
   "metadata": {},
   "source": [
    "## PROBLEM 15"
   ]
  },
  {
   "cell_type": "code",
   "execution_count": 40,
   "metadata": {},
   "outputs": [],
   "source": [
    "with open(\"problem15.txt\") as f:\n",
    "    input15 = f.read().strip().split(\",\")\n",
    "    "
   ]
  },
  {
   "cell_type": "code",
   "execution_count": 12,
   "metadata": {},
   "outputs": [],
   "source": [
    "import regex as re"
   ]
  },
  {
   "cell_type": "code",
   "execution_count": 14,
   "metadata": {},
   "outputs": [],
   "source": [
    "input15_ex = \"rn=1,cm-,qp=3,cm=2,qp-,pc=4,ot=9,ab=5,pc-,pc=6,ot=7\".split(\",\")"
   ]
  },
  {
   "cell_type": "code",
   "execution_count": 35,
   "metadata": {},
   "outputs": [
    {
     "data": {
      "text/plain": [
       "506891"
      ]
     },
     "execution_count": 35,
     "metadata": {},
     "output_type": "execute_result"
    }
   ],
   "source": [
    "file = input15\n",
    "values_list = []\n",
    "\n",
    "for ele in file:\n",
    "    current_value = 0\n",
    "    for char in list(ele):\n",
    "        current_value+=ord(char)\n",
    "        current_value*=17\n",
    "        current_value%=256\n",
    "    values_list.append(current_value)\n",
    "sum(values_list)\n",
    "            "
   ]
  },
  {
   "cell_type": "code",
   "execution_count": 20,
   "metadata": {},
   "outputs": [],
   "source": [
    "def get_hash_alg(string):\n",
    "    current_value = 0\n",
    "\n",
    "    for char in list(string):\n",
    "        current_value+=ord(char)\n",
    "        current_value*=17\n",
    "        current_value%=256\n",
    "    return current_value"
   ]
  },
  {
   "cell_type": "code",
   "execution_count": 45,
   "metadata": {},
   "outputs": [
    {
     "data": {
      "text/plain": [
       "230462"
      ]
     },
     "execution_count": 45,
     "metadata": {},
     "output_type": "execute_result"
    }
   ],
   "source": [
    "boxes = [{} for _ in range(256)]\n",
    "for instruction in file:\n",
    "    if \"-\" in instruction:\n",
    "        label = instruction.split(\"-\")[0]\n",
    "        boxes[get_hash_alg(label)].pop(label, -1)\n",
    "    else:\n",
    "        label, number = instruction.split(\"=\")\n",
    "        boxes[get_hash_alg(label)][label] = int(number)\n",
    "\n",
    "power = 0\n",
    "for box_index, box in enumerate(boxes):\n",
    "    for lens_index, (k, v) in enumerate(box.items()):\n",
    "        power += (box_index + 1) * (lens_index + 1) * v\n",
    "        \n",
    "power"
   ]
  },
  {
   "cell_type": "code",
   "execution_count": null,
   "metadata": {},
   "outputs": [],
   "source": []
  }
 ],
 "metadata": {
  "kernelspec": {
   "display_name": "Python 3",
   "language": "python",
   "name": "python3"
  },
  "language_info": {
   "codemirror_mode": {
    "name": "ipython",
    "version": 3
   },
   "file_extension": ".py",
   "mimetype": "text/x-python",
   "name": "python",
   "nbconvert_exporter": "python",
   "pygments_lexer": "ipython3",
   "version": "3.10.10"
  }
 },
 "nbformat": 4,
 "nbformat_minor": 2
}
