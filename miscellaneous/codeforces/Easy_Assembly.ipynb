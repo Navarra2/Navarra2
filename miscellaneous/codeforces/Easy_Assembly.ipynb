{
 "cells": [
  {
   "cell_type": "code",
   "execution_count": 1,
   "metadata": {},
   "outputs": [
    {
     "data": {
      "text/plain": [
       "'Code Forces Problem - E.Easy Assembly - Sortings 1400'"
      ]
     },
     "execution_count": 1,
     "metadata": {},
     "output_type": "execute_result"
    }
   ],
   "source": [
    "\"\"\"Code Forces Problem - E.Easy Assembly - Sortings 1400\"\"\"\n",
    "\n",
    "#Input \n",
    "#n towers\n",
    "# k_i number of blocks each tower has\n",
    "# b_ij numbers that are written at each block\n",
    "\n",
    "#Output\n",
    "#return the minimum number of splits and combines of the towers in order to build one tower with the numbers sorted from top to bottom"
   ]
  },
  {
   "cell_type": "code",
   "execution_count": 2,
   "metadata": {},
   "outputs": [],
   "source": [
    "def easy_assembly(n, k_list, b_list):\n",
    "    #we just need to split if see numbers in the wrong order and then we combine everything in the end\n",
    "    split = 0\n",
    "    combine = 0 #number of towers after split -1\n",
    "\n",
    "    numb_towers_after_split = 0 #number of initial towers + number of splits\n",
    "    for tower in b_list:\n",
    "        idx=0\n",
    "        numb_towers_after_split+=1\n",
    "        while idx < len(tower)-1:\n",
    "            if tower[idx]>tower[idx+1]:\n",
    "                split +=1\n",
    "                numb_towers_after_split+=1\n",
    "            idx+=1\n",
    "    combine += numb_towers_after_split-1\n",
    "    return split, combine\n",
    "\n",
    "\n",
    "\n"
   ]
  },
  {
   "cell_type": "code",
   "execution_count": 3,
   "metadata": {},
   "outputs": [
    {
     "data": {
      "text/plain": [
       "(1, 2)"
      ]
     },
     "execution_count": 3,
     "metadata": {},
     "output_type": "execute_result"
    }
   ],
   "source": [
    "n= 2\n",
    "k_list = [3,2]\n",
    "b_list = [[3,5,8],[9,2]]\n",
    "easy_assembly(n,k_list,b_list)"
   ]
  },
  {
   "cell_type": "code",
   "execution_count": null,
   "metadata": {},
   "outputs": [],
   "source": []
  }
 ],
 "metadata": {
  "kernelspec": {
   "display_name": "Python 3",
   "language": "python",
   "name": "python3"
  },
  "language_info": {
   "codemirror_mode": {
    "name": "ipython",
    "version": 3
   },
   "file_extension": ".py",
   "mimetype": "text/x-python",
   "name": "python",
   "nbconvert_exporter": "python",
   "pygments_lexer": "ipython3",
   "version": "3.7.8"
  },
  "orig_nbformat": 4,
  "vscode": {
   "interpreter": {
    "hash": "188519a1ec8c48a04d503a8f509c1ad13458232ed0f18846c7ab1b03f1f8bf34"
   }
  }
 },
 "nbformat": 4,
 "nbformat_minor": 2
}
