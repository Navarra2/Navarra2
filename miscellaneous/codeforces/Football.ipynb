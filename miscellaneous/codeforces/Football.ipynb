{
 "cells": [
  {
   "cell_type": "code",
   "execution_count": null,
   "metadata": {},
   "outputs": [],
   "source": [
    "\"\"\"Code Forces Problem - F.Football - Constrcutive Algorithms 800\"\"\"\n",
    "\n",
    "#Input \n",
    "#n (1 to 100) number of played matches by the team\n",
    "#a total goals scored by the team\n",
    "#b total goals conceded by the team~\n",
    "\n",
    "#Output\n",
    "#return the minimum number of draws that could have happened\n",
    "#print the results for each game"
   ]
  },
  {
   "cell_type": "code",
   "execution_count": 14,
   "metadata": {},
   "outputs": [],
   "source": [
    "def number_draws(n,a,b):\n",
    "\n",
    "    games_list = []\n",
    "    draws = 0\n",
    "\n",
    "    for i in range(n):\n",
    "        if i == n-1:\n",
    "            games_list.append(f\"{a}:{b}\")\n",
    "            if a==b:\n",
    "                draws+=1\n",
    "        elif i==n-2:\n",
    "            if a==0 and b==0:\n",
    "                games_list.append(f\"{0}:{0}\")\n",
    "                draws +=1\n",
    "            elif a > b:\n",
    "                if b==0:\n",
    "                    games_list.append(f\"{1}:{0}\")\n",
    "                    a-=1\n",
    "                elif a-b ==1:\n",
    "                    games_list.append(f\"{2}:{0}\")\n",
    "                    a-=2\n",
    "                else:    \n",
    "                    games_list.append(f\"{1}:{0}\")\n",
    "                    a-=1\n",
    "            elif a == b:\n",
    "                games_list.append(f\"{1}:{0}\")\n",
    "                a-=1   \n",
    "            elif b > a:\n",
    "                if a==0:\n",
    "                    games_list.append(f\"{0}:{1}\")\n",
    "                    b-=1\n",
    "                elif b-a ==1:\n",
    "                    games_list.append(f\"{0}:{2}\")\n",
    "                    b-=2\n",
    "                else:    \n",
    "                    games_list.append(f\"{0}:{1}\")\n",
    "                    b-=1\n",
    "        else:\n",
    "            if a==0 and b==0:\n",
    "                games_list.append(f\"{0}:{0}\")\n",
    "                draws +=1\n",
    "            elif a > b:\n",
    "                if b==0:\n",
    "                    games_list.append(f\"{1}:{0}\")\n",
    "                    a-=1\n",
    "                else:    \n",
    "                    games_list.append(f\"{1}:{0}\")\n",
    "                    a-=1\n",
    "            elif a == b:\n",
    "                games_list.append(f\"{1}:{0}\")\n",
    "                a-=1   \n",
    "            elif b > a:\n",
    "                if a==0:\n",
    "                    games_list.append(f\"{0}:{1}\")\n",
    "                    b-=1\n",
    "                else:    \n",
    "                    games_list.append(f\"{0}:{1}\")\n",
    "                    b-=1\n",
    "    return draws, games_list        \n",
    "            \n",
    "                \n",
    "\n"
   ]
  },
  {
   "cell_type": "code",
   "execution_count": 18,
   "metadata": {},
   "outputs": [
    {
     "data": {
      "text/plain": [
       "(0, ['0:1', '0:2', '2:1'])"
      ]
     },
     "execution_count": 18,
     "metadata": {},
     "output_type": "execute_result"
    }
   ],
   "source": [
    "number_draws(3,2,4)"
   ]
  },
  {
   "cell_type": "code",
   "execution_count": null,
   "metadata": {},
   "outputs": [],
   "source": []
  }
 ],
 "metadata": {
  "kernelspec": {
   "display_name": "Python 3.7.8 64-bit",
   "language": "python",
   "name": "python3"
  },
  "language_info": {
   "codemirror_mode": {
    "name": "ipython",
    "version": 3
   },
   "file_extension": ".py",
   "mimetype": "text/x-python",
   "name": "python",
   "nbconvert_exporter": "python",
   "pygments_lexer": "ipython3",
   "version": "3.7.8 (tags/v3.7.8:4b47a5b6ba, Jun 28 2020, 08:53:46) [MSC v.1916 64 bit (AMD64)]"
  },
  "orig_nbformat": 4,
  "vscode": {
   "interpreter": {
    "hash": "188519a1ec8c48a04d503a8f509c1ad13458232ed0f18846c7ab1b03f1f8bf34"
   }
  }
 },
 "nbformat": 4,
 "nbformat_minor": 2
}
