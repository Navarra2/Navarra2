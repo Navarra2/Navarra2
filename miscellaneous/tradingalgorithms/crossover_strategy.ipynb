{
 "cells": [
  {
   "cell_type": "code",
   "execution_count": 2,
   "metadata": {},
   "outputs": [
    {
     "data": {
      "text/plain": [
       "'\"Moving Average Crossover Trading Strategy'"
      ]
     },
     "execution_count": 2,
     "metadata": {},
     "output_type": "execute_result"
    }
   ],
   "source": [
    "\"\"\"\"Moving Average Crossover Trading Strategy\"\"\"\n",
    "#Look at the Adjusted Close values for the German Index and determine buying and selling signs\n",
    "#For this we look at the Moving averages for 20 and 50 days and check once one crosses the other\n",
    "\n",
    "#buying signal -  moment MA20 becomes > MA50 \n",
    "#selling signal -  moment MA20 becomes < MA50"
   ]
  },
  {
   "cell_type": "code",
   "execution_count": 57,
   "metadata": {},
   "outputs": [],
   "source": [
    "import yfinance as yf\n",
    "import pandas as pd\n",
    "import matplotlib.pyplot as plt\n",
    "import numpy as np"
   ]
  },
  {
   "cell_type": "code",
   "execution_count": 4,
   "metadata": {},
   "outputs": [
    {
     "name": "stdout",
     "output_type": "stream",
     "text": [
      "[*********************100%***********************]  1 of 1 completed\n"
     ]
    }
   ],
   "source": [
    "df = yf.download('^GDAXI', start='2019-01-01')"
   ]
  },
  {
   "cell_type": "code",
   "execution_count": 5,
   "metadata": {},
   "outputs": [
    {
     "data": {
      "text/html": [
       "<div>\n",
       "<style scoped>\n",
       "    .dataframe tbody tr th:only-of-type {\n",
       "        vertical-align: middle;\n",
       "    }\n",
       "\n",
       "    .dataframe tbody tr th {\n",
       "        vertical-align: top;\n",
       "    }\n",
       "\n",
       "    .dataframe thead th {\n",
       "        text-align: right;\n",
       "    }\n",
       "</style>\n",
       "<table border=\"1\" class=\"dataframe\">\n",
       "  <thead>\n",
       "    <tr style=\"text-align: right;\">\n",
       "      <th></th>\n",
       "      <th>Open</th>\n",
       "      <th>High</th>\n",
       "      <th>Low</th>\n",
       "      <th>Close</th>\n",
       "      <th>Adj Close</th>\n",
       "      <th>Volume</th>\n",
       "    </tr>\n",
       "    <tr>\n",
       "      <th>Date</th>\n",
       "      <th></th>\n",
       "      <th></th>\n",
       "      <th></th>\n",
       "      <th></th>\n",
       "      <th></th>\n",
       "      <th></th>\n",
       "    </tr>\n",
       "  </thead>\n",
       "  <tbody>\n",
       "    <tr>\n",
       "      <th>2019-01-02</th>\n",
       "      <td>10477.769531</td>\n",
       "      <td>10612.719727</td>\n",
       "      <td>10386.969727</td>\n",
       "      <td>10580.190430</td>\n",
       "      <td>10580.190430</td>\n",
       "      <td>79626700</td>\n",
       "    </tr>\n",
       "    <tr>\n",
       "      <th>2019-01-03</th>\n",
       "      <td>10467.110352</td>\n",
       "      <td>10538.660156</td>\n",
       "      <td>10400.110352</td>\n",
       "      <td>10416.660156</td>\n",
       "      <td>10416.660156</td>\n",
       "      <td>84733800</td>\n",
       "    </tr>\n",
       "    <tr>\n",
       "      <th>2019-01-04</th>\n",
       "      <td>10533.940430</td>\n",
       "      <td>10786.339844</td>\n",
       "      <td>10483.900391</td>\n",
       "      <td>10767.690430</td>\n",
       "      <td>10767.690430</td>\n",
       "      <td>95339500</td>\n",
       "    </tr>\n",
       "    <tr>\n",
       "      <th>2019-01-07</th>\n",
       "      <td>10814.389648</td>\n",
       "      <td>10814.469727</td>\n",
       "      <td>10681.269531</td>\n",
       "      <td>10747.809570</td>\n",
       "      <td>10747.809570</td>\n",
       "      <td>71151400</td>\n",
       "    </tr>\n",
       "    <tr>\n",
       "      <th>2019-01-08</th>\n",
       "      <td>10750.190430</td>\n",
       "      <td>10910.709961</td>\n",
       "      <td>10745.030273</td>\n",
       "      <td>10803.980469</td>\n",
       "      <td>10803.980469</td>\n",
       "      <td>93672200</td>\n",
       "    </tr>\n",
       "    <tr>\n",
       "      <th>...</th>\n",
       "      <td>...</td>\n",
       "      <td>...</td>\n",
       "      <td>...</td>\n",
       "      <td>...</td>\n",
       "      <td>...</td>\n",
       "      <td>...</td>\n",
       "    </tr>\n",
       "    <tr>\n",
       "      <th>2022-12-05</th>\n",
       "      <td>14487.429688</td>\n",
       "      <td>14507.160156</td>\n",
       "      <td>14394.370117</td>\n",
       "      <td>14447.610352</td>\n",
       "      <td>14447.610352</td>\n",
       "      <td>50074900</td>\n",
       "    </tr>\n",
       "    <tr>\n",
       "      <th>2022-12-06</th>\n",
       "      <td>14406.870117</td>\n",
       "      <td>14471.500000</td>\n",
       "      <td>14305.259766</td>\n",
       "      <td>14343.190430</td>\n",
       "      <td>14343.190430</td>\n",
       "      <td>50930900</td>\n",
       "    </tr>\n",
       "    <tr>\n",
       "      <th>2022-12-07</th>\n",
       "      <td>14304.950195</td>\n",
       "      <td>14372.349609</td>\n",
       "      <td>14218.179688</td>\n",
       "      <td>14261.190430</td>\n",
       "      <td>14261.190430</td>\n",
       "      <td>52784800</td>\n",
       "    </tr>\n",
       "    <tr>\n",
       "      <th>2022-12-08</th>\n",
       "      <td>14277.750000</td>\n",
       "      <td>14298.809570</td>\n",
       "      <td>14196.769531</td>\n",
       "      <td>14264.559570</td>\n",
       "      <td>14264.559570</td>\n",
       "      <td>47362200</td>\n",
       "    </tr>\n",
       "    <tr>\n",
       "      <th>2022-12-09</th>\n",
       "      <td>14325.799805</td>\n",
       "      <td>14385.570312</td>\n",
       "      <td>14217.959961</td>\n",
       "      <td>14370.719727</td>\n",
       "      <td>14370.719727</td>\n",
       "      <td>52573000</td>\n",
       "    </tr>\n",
       "  </tbody>\n",
       "</table>\n",
       "<p>1003 rows × 6 columns</p>\n",
       "</div>"
      ],
      "text/plain": [
       "                    Open          High           Low         Close  \\\n",
       "Date                                                                 \n",
       "2019-01-02  10477.769531  10612.719727  10386.969727  10580.190430   \n",
       "2019-01-03  10467.110352  10538.660156  10400.110352  10416.660156   \n",
       "2019-01-04  10533.940430  10786.339844  10483.900391  10767.690430   \n",
       "2019-01-07  10814.389648  10814.469727  10681.269531  10747.809570   \n",
       "2019-01-08  10750.190430  10910.709961  10745.030273  10803.980469   \n",
       "...                  ...           ...           ...           ...   \n",
       "2022-12-05  14487.429688  14507.160156  14394.370117  14447.610352   \n",
       "2022-12-06  14406.870117  14471.500000  14305.259766  14343.190430   \n",
       "2022-12-07  14304.950195  14372.349609  14218.179688  14261.190430   \n",
       "2022-12-08  14277.750000  14298.809570  14196.769531  14264.559570   \n",
       "2022-12-09  14325.799805  14385.570312  14217.959961  14370.719727   \n",
       "\n",
       "               Adj Close    Volume  \n",
       "Date                                \n",
       "2019-01-02  10580.190430  79626700  \n",
       "2019-01-03  10416.660156  84733800  \n",
       "2019-01-04  10767.690430  95339500  \n",
       "2019-01-07  10747.809570  71151400  \n",
       "2019-01-08  10803.980469  93672200  \n",
       "...                  ...       ...  \n",
       "2022-12-05  14447.610352  50074900  \n",
       "2022-12-06  14343.190430  50930900  \n",
       "2022-12-07  14261.190430  52784800  \n",
       "2022-12-08  14264.559570  47362200  \n",
       "2022-12-09  14370.719727  52573000  \n",
       "\n",
       "[1003 rows x 6 columns]"
      ]
     },
     "execution_count": 5,
     "metadata": {},
     "output_type": "execute_result"
    }
   ],
   "source": [
    "df"
   ]
  },
  {
   "cell_type": "code",
   "execution_count": 6,
   "metadata": {},
   "outputs": [],
   "source": [
    "df['MA20'] = df['Adj Close'].rolling(20).mean()\n",
    "df['MA50'] = df['Adj Close'].rolling(50).mean()"
   ]
  },
  {
   "cell_type": "code",
   "execution_count": 7,
   "metadata": {},
   "outputs": [
    {
     "data": {
      "text/html": [
       "<div>\n",
       "<style scoped>\n",
       "    .dataframe tbody tr th:only-of-type {\n",
       "        vertical-align: middle;\n",
       "    }\n",
       "\n",
       "    .dataframe tbody tr th {\n",
       "        vertical-align: top;\n",
       "    }\n",
       "\n",
       "    .dataframe thead th {\n",
       "        text-align: right;\n",
       "    }\n",
       "</style>\n",
       "<table border=\"1\" class=\"dataframe\">\n",
       "  <thead>\n",
       "    <tr style=\"text-align: right;\">\n",
       "      <th></th>\n",
       "      <th>Open</th>\n",
       "      <th>High</th>\n",
       "      <th>Low</th>\n",
       "      <th>Close</th>\n",
       "      <th>Adj Close</th>\n",
       "      <th>Volume</th>\n",
       "      <th>MA20</th>\n",
       "      <th>MA50</th>\n",
       "    </tr>\n",
       "    <tr>\n",
       "      <th>Date</th>\n",
       "      <th></th>\n",
       "      <th></th>\n",
       "      <th></th>\n",
       "      <th></th>\n",
       "      <th></th>\n",
       "      <th></th>\n",
       "      <th></th>\n",
       "      <th></th>\n",
       "    </tr>\n",
       "  </thead>\n",
       "  <tbody>\n",
       "    <tr>\n",
       "      <th>2019-01-02</th>\n",
       "      <td>10477.769531</td>\n",
       "      <td>10612.719727</td>\n",
       "      <td>10386.969727</td>\n",
       "      <td>10580.190430</td>\n",
       "      <td>10580.190430</td>\n",
       "      <td>79626700</td>\n",
       "      <td>NaN</td>\n",
       "      <td>NaN</td>\n",
       "    </tr>\n",
       "    <tr>\n",
       "      <th>2019-01-03</th>\n",
       "      <td>10467.110352</td>\n",
       "      <td>10538.660156</td>\n",
       "      <td>10400.110352</td>\n",
       "      <td>10416.660156</td>\n",
       "      <td>10416.660156</td>\n",
       "      <td>84733800</td>\n",
       "      <td>NaN</td>\n",
       "      <td>NaN</td>\n",
       "    </tr>\n",
       "    <tr>\n",
       "      <th>2019-01-04</th>\n",
       "      <td>10533.940430</td>\n",
       "      <td>10786.339844</td>\n",
       "      <td>10483.900391</td>\n",
       "      <td>10767.690430</td>\n",
       "      <td>10767.690430</td>\n",
       "      <td>95339500</td>\n",
       "      <td>NaN</td>\n",
       "      <td>NaN</td>\n",
       "    </tr>\n",
       "    <tr>\n",
       "      <th>2019-01-07</th>\n",
       "      <td>10814.389648</td>\n",
       "      <td>10814.469727</td>\n",
       "      <td>10681.269531</td>\n",
       "      <td>10747.809570</td>\n",
       "      <td>10747.809570</td>\n",
       "      <td>71151400</td>\n",
       "      <td>NaN</td>\n",
       "      <td>NaN</td>\n",
       "    </tr>\n",
       "    <tr>\n",
       "      <th>2019-01-08</th>\n",
       "      <td>10750.190430</td>\n",
       "      <td>10910.709961</td>\n",
       "      <td>10745.030273</td>\n",
       "      <td>10803.980469</td>\n",
       "      <td>10803.980469</td>\n",
       "      <td>93672200</td>\n",
       "      <td>NaN</td>\n",
       "      <td>NaN</td>\n",
       "    </tr>\n",
       "    <tr>\n",
       "      <th>...</th>\n",
       "      <td>...</td>\n",
       "      <td>...</td>\n",
       "      <td>...</td>\n",
       "      <td>...</td>\n",
       "      <td>...</td>\n",
       "      <td>...</td>\n",
       "      <td>...</td>\n",
       "      <td>...</td>\n",
       "    </tr>\n",
       "    <tr>\n",
       "      <th>2022-12-05</th>\n",
       "      <td>14487.429688</td>\n",
       "      <td>14507.160156</td>\n",
       "      <td>14394.370117</td>\n",
       "      <td>14447.610352</td>\n",
       "      <td>14447.610352</td>\n",
       "      <td>50074900</td>\n",
       "      <td>14313.202979</td>\n",
       "      <td>13350.772246</td>\n",
       "    </tr>\n",
       "    <tr>\n",
       "      <th>2022-12-06</th>\n",
       "      <td>14406.870117</td>\n",
       "      <td>14471.500000</td>\n",
       "      <td>14305.259766</td>\n",
       "      <td>14343.190430</td>\n",
       "      <td>14343.190430</td>\n",
       "      <td>50930900</td>\n",
       "      <td>14345.925000</td>\n",
       "      <td>13394.842461</td>\n",
       "    </tr>\n",
       "    <tr>\n",
       "      <th>2022-12-07</th>\n",
       "      <td>14304.950195</td>\n",
       "      <td>14372.349609</td>\n",
       "      <td>14218.179688</td>\n",
       "      <td>14261.190430</td>\n",
       "      <td>14261.190430</td>\n",
       "      <td>52784800</td>\n",
       "      <td>14375.668506</td>\n",
       "      <td>13436.400664</td>\n",
       "    </tr>\n",
       "    <tr>\n",
       "      <th>2022-12-08</th>\n",
       "      <td>14277.750000</td>\n",
       "      <td>14298.809570</td>\n",
       "      <td>14196.769531</td>\n",
       "      <td>14264.559570</td>\n",
       "      <td>14264.559570</td>\n",
       "      <td>47362200</td>\n",
       "      <td>14381.591992</td>\n",
       "      <td>13482.180859</td>\n",
       "    </tr>\n",
       "    <tr>\n",
       "      <th>2022-12-09</th>\n",
       "      <td>14325.799805</td>\n",
       "      <td>14385.570312</td>\n",
       "      <td>14217.959961</td>\n",
       "      <td>14370.719727</td>\n",
       "      <td>14370.719727</td>\n",
       "      <td>52573000</td>\n",
       "      <td>14388.884961</td>\n",
       "      <td>13527.308047</td>\n",
       "    </tr>\n",
       "  </tbody>\n",
       "</table>\n",
       "<p>1003 rows × 8 columns</p>\n",
       "</div>"
      ],
      "text/plain": [
       "                    Open          High           Low         Close  \\\n",
       "Date                                                                 \n",
       "2019-01-02  10477.769531  10612.719727  10386.969727  10580.190430   \n",
       "2019-01-03  10467.110352  10538.660156  10400.110352  10416.660156   \n",
       "2019-01-04  10533.940430  10786.339844  10483.900391  10767.690430   \n",
       "2019-01-07  10814.389648  10814.469727  10681.269531  10747.809570   \n",
       "2019-01-08  10750.190430  10910.709961  10745.030273  10803.980469   \n",
       "...                  ...           ...           ...           ...   \n",
       "2022-12-05  14487.429688  14507.160156  14394.370117  14447.610352   \n",
       "2022-12-06  14406.870117  14471.500000  14305.259766  14343.190430   \n",
       "2022-12-07  14304.950195  14372.349609  14218.179688  14261.190430   \n",
       "2022-12-08  14277.750000  14298.809570  14196.769531  14264.559570   \n",
       "2022-12-09  14325.799805  14385.570312  14217.959961  14370.719727   \n",
       "\n",
       "               Adj Close    Volume          MA20          MA50  \n",
       "Date                                                            \n",
       "2019-01-02  10580.190430  79626700           NaN           NaN  \n",
       "2019-01-03  10416.660156  84733800           NaN           NaN  \n",
       "2019-01-04  10767.690430  95339500           NaN           NaN  \n",
       "2019-01-07  10747.809570  71151400           NaN           NaN  \n",
       "2019-01-08  10803.980469  93672200           NaN           NaN  \n",
       "...                  ...       ...           ...           ...  \n",
       "2022-12-05  14447.610352  50074900  14313.202979  13350.772246  \n",
       "2022-12-06  14343.190430  50930900  14345.925000  13394.842461  \n",
       "2022-12-07  14261.190430  52784800  14375.668506  13436.400664  \n",
       "2022-12-08  14264.559570  47362200  14381.591992  13482.180859  \n",
       "2022-12-09  14370.719727  52573000  14388.884961  13527.308047  \n",
       "\n",
       "[1003 rows x 8 columns]"
      ]
     },
     "execution_count": 7,
     "metadata": {},
     "output_type": "execute_result"
    }
   ],
   "source": [
    "df"
   ]
  },
  {
   "cell_type": "code",
   "execution_count": 9,
   "metadata": {},
   "outputs": [],
   "source": [
    "df = df.dropna()"
   ]
  },
  {
   "cell_type": "code",
   "execution_count": 10,
   "metadata": {},
   "outputs": [],
   "source": [
    "df = df[['Adj Close','MA20','MA50']]"
   ]
  },
  {
   "cell_type": "code",
   "execution_count": 11,
   "metadata": {},
   "outputs": [
    {
     "data": {
      "text/html": [
       "<div>\n",
       "<style scoped>\n",
       "    .dataframe tbody tr th:only-of-type {\n",
       "        vertical-align: middle;\n",
       "    }\n",
       "\n",
       "    .dataframe tbody tr th {\n",
       "        vertical-align: top;\n",
       "    }\n",
       "\n",
       "    .dataframe thead th {\n",
       "        text-align: right;\n",
       "    }\n",
       "</style>\n",
       "<table border=\"1\" class=\"dataframe\">\n",
       "  <thead>\n",
       "    <tr style=\"text-align: right;\">\n",
       "      <th></th>\n",
       "      <th>Adj Close</th>\n",
       "      <th>MA20</th>\n",
       "      <th>MA50</th>\n",
       "    </tr>\n",
       "    <tr>\n",
       "      <th>Date</th>\n",
       "      <th></th>\n",
       "      <th></th>\n",
       "      <th></th>\n",
       "    </tr>\n",
       "  </thead>\n",
       "  <tbody>\n",
       "    <tr>\n",
       "      <th>2019-03-12</th>\n",
       "      <td>11524.169922</td>\n",
       "      <td>11447.165967</td>\n",
       "      <td>11187.565020</td>\n",
       "    </tr>\n",
       "    <tr>\n",
       "      <th>2019-03-13</th>\n",
       "      <td>11572.410156</td>\n",
       "      <td>11467.425488</td>\n",
       "      <td>11207.409414</td>\n",
       "    </tr>\n",
       "    <tr>\n",
       "      <th>2019-03-14</th>\n",
       "      <td>11587.469727</td>\n",
       "      <td>11492.309473</td>\n",
       "      <td>11230.825605</td>\n",
       "    </tr>\n",
       "    <tr>\n",
       "      <th>2019-03-15</th>\n",
       "      <td>11685.690430</td>\n",
       "      <td>11511.604004</td>\n",
       "      <td>11249.185605</td>\n",
       "    </tr>\n",
       "    <tr>\n",
       "      <th>2019-03-18</th>\n",
       "      <td>11657.059570</td>\n",
       "      <td>11529.496973</td>\n",
       "      <td>11267.370605</td>\n",
       "    </tr>\n",
       "    <tr>\n",
       "      <th>...</th>\n",
       "      <td>...</td>\n",
       "      <td>...</td>\n",
       "      <td>...</td>\n",
       "    </tr>\n",
       "    <tr>\n",
       "      <th>2022-12-02</th>\n",
       "      <td>14529.389648</td>\n",
       "      <td>14267.498438</td>\n",
       "      <td>13306.378437</td>\n",
       "    </tr>\n",
       "    <tr>\n",
       "      <th>2022-12-05</th>\n",
       "      <td>14447.610352</td>\n",
       "      <td>14313.202979</td>\n",
       "      <td>13350.772246</td>\n",
       "    </tr>\n",
       "    <tr>\n",
       "      <th>2022-12-06</th>\n",
       "      <td>14343.190430</td>\n",
       "      <td>14345.925000</td>\n",
       "      <td>13394.842461</td>\n",
       "    </tr>\n",
       "    <tr>\n",
       "      <th>2022-12-07</th>\n",
       "      <td>14261.190430</td>\n",
       "      <td>14375.668506</td>\n",
       "      <td>13436.400664</td>\n",
       "    </tr>\n",
       "    <tr>\n",
       "      <th>2022-12-08</th>\n",
       "      <td>14264.559570</td>\n",
       "      <td>14381.591992</td>\n",
       "      <td>13482.180859</td>\n",
       "    </tr>\n",
       "  </tbody>\n",
       "</table>\n",
       "<p>953 rows × 3 columns</p>\n",
       "</div>"
      ],
      "text/plain": [
       "               Adj Close          MA20          MA50\n",
       "Date                                                \n",
       "2019-03-12  11524.169922  11447.165967  11187.565020\n",
       "2019-03-13  11572.410156  11467.425488  11207.409414\n",
       "2019-03-14  11587.469727  11492.309473  11230.825605\n",
       "2019-03-15  11685.690430  11511.604004  11249.185605\n",
       "2019-03-18  11657.059570  11529.496973  11267.370605\n",
       "...                  ...           ...           ...\n",
       "2022-12-02  14529.389648  14267.498438  13306.378437\n",
       "2022-12-05  14447.610352  14313.202979  13350.772246\n",
       "2022-12-06  14343.190430  14345.925000  13394.842461\n",
       "2022-12-07  14261.190430  14375.668506  13436.400664\n",
       "2022-12-08  14264.559570  14381.591992  13482.180859\n",
       "\n",
       "[953 rows x 3 columns]"
      ]
     },
     "execution_count": 11,
     "metadata": {},
     "output_type": "execute_result"
    }
   ],
   "source": [
    "df"
   ]
  },
  {
   "cell_type": "code",
   "execution_count": 13,
   "metadata": {},
   "outputs": [],
   "source": [
    "#buying signal -  moment MA20 becomes > MA50 \n",
    "#selling signal -  moment MA20 becomes < MA50\n",
    "\n",
    "Buy = [] \n",
    "Sell = []\n",
    "\n",
    "for i in range(len(df)):\n",
    "    if df.MA20.iloc[i] > df.MA50.iloc[i] and df.MA20.iloc[i-1] < df.MA50.iloc[i-1]:\n",
    "        Buy.append(i)\n",
    "    elif df.MA20.iloc[i] < df.MA50.iloc[i] and df.MA20.iloc[i-1] > df.MA50.iloc[i-1]:\n",
    "        Sell.append(i)"
   ]
  },
  {
   "cell_type": "code",
   "execution_count": 14,
   "metadata": {},
   "outputs": [
    {
     "data": {
      "text/plain": [
       "[75, 132, 288, 432, 613, 671, 719, 789, 820, 867, 926]"
      ]
     },
     "execution_count": 14,
     "metadata": {},
     "output_type": "execute_result"
    }
   ],
   "source": [
    "Buy"
   ]
  },
  {
   "cell_type": "code",
   "execution_count": 15,
   "metadata": {},
   "outputs": [
    {
     "data": {
      "text/plain": [
       "[59, 102, 243, 398, 601, 640, 699, 735, 796, 830, 888]"
      ]
     },
     "execution_count": 15,
     "metadata": {},
     "output_type": "execute_result"
    }
   ],
   "source": [
    "Sell"
   ]
  },
  {
   "cell_type": "code",
   "execution_count": 18,
   "metadata": {},
   "outputs": [
    {
     "data": {
      "image/png": "[encoded data removed]",
      "text/plain": [
       "<Figure size 864x360 with 1 Axes>"
      ]
     },
     "metadata": {
      "needs_background": "light"
     },
     "output_type": "display_data"
    }
   ],
   "source": [
    "plt.figure(figsize=(12,5))\n",
    "plt.plot(df['Adj Close'], label = 'Asset Price', c = 'blue', alpha = 0.5)\n",
    "plt.plot(df['MA20'], label = 'MA20', c='k', alpha=0.9)\n",
    "plt.plot(df['MA50'], label = 'MA50', c='magenta', alpha=0.9)\n",
    "\n",
    "plt.scatter(df.iloc[Buy].index,df.iloc[Buy]['Adj Close'], marker = '^', color = 'green', s = 100)\n",
    "plt.scatter(df.iloc[Sell].index,df.iloc[Sell]['Adj Close'], marker = 'v', color = 'red', s = 100)\n",
    "plt.legend()\n",
    "plt.show()"
   ]
  },
  {
   "cell_type": "code",
   "execution_count": 11,
   "metadata": {},
   "outputs": [
    {
     "data": {
      "text/plain": [
       "Open         float64\n",
       "High         float64\n",
       "Low          float64\n",
       "Close        float64\n",
       "Adj Close    float64\n",
       "Volume         int64\n",
       "MA20         float64\n",
       "MA50         float64\n",
       "dtype: object"
      ]
     },
     "execution_count": 11,
     "metadata": {},
     "output_type": "execute_result"
    }
   ],
   "source": [
    "df.dtypes"
   ]
  },
  {
   "cell_type": "code",
   "execution_count": 13,
   "metadata": {},
   "outputs": [],
   "source": [
    "import time\n",
    "import datetime"
   ]
  },
  {
   "cell_type": "code",
   "execution_count": 22,
   "metadata": {},
   "outputs": [
    {
     "name": "stdout",
     "output_type": "stream",
     "text": [
      "False\n"
     ]
    }
   ],
   "source": [
    "s1 = \"2022-07-01 11:13:00.745296955\"[:-3]\n",
    "s2 = \"2022-07-01 11:13:00.745896955\"[:-3]\n",
    "format = \"%Y-%m-%d %H:%M:%S.%f\"\n",
    "seconds = time.mktime(datetime.datetime.strptime(s1, format).timetuple())\n",
    "seconds1 = time.mktime(datetime.datetime.strptime(s2, format).timetuple())\n",
    "print(seconds>seconds1)"
   ]
  },
  {
   "cell_type": "code",
   "execution_count": 31,
   "metadata": {},
   "outputs": [],
   "source": [
    "def string_2_ts(ts_string):\n",
    "    \"\"\" Converts the time stamp string into the real time stamp\"\"\"\n",
    "\n",
    "    ts_str = ts_string[11:-3]\n",
    "    format = \"%Y-%m-%d %H:%M:%S.%f\"\n",
    "    \n",
    "    return time.mktime(datetime.datetime.strptime(ts_str, format).timetuple())"
   ]
  },
  {
   "cell_type": "code",
   "execution_count": 47,
   "metadata": {},
   "outputs": [],
   "source": [
    "def input_to_ts_stock_price(input_string):\n",
    "    \"\"\" Extracts from the initial input the ts, the stock and the price\"\"\"\n",
    "    \n",
    "    #subdivide the string\n",
    "    ts_str = input_string[:40]\n",
    "    stock_str = input_string[40:60]\n",
    "    price_str = input_string[60:]\n",
    "\n",
    "    #obtain the inputs\n",
    "    ts = time.mktime(datetime.datetime.strptime(ts_str[11:-3],\"%Y-%m-%d %H:%M:%S.%f\").timetuple()) \n",
    "    stock_name = stock_str[-2]\n",
    "    price = float(price_str[1:])\n",
    "    \n",
    "    return ts, stock_name, price\n"
   ]
  },
  {
   "cell_type": "code",
   "execution_count": 50,
   "metadata": {},
   "outputs": [
    {
     "name": "stdout",
     "output_type": "stream",
     "text": [
      "1656670380.0\n",
      "1656670380.0\n"
     ]
    }
   ],
   "source": [
    "print(string_2_ts(\"Timestamp: 2022-07-01 11:13:00.745296955\"))\n",
    "print(string_2_ts(\"Timestamp: 2022-07-01 11:13:00.785296955\"))"
   ]
  },
  {
   "cell_type": "code",
   "execution_count": 35,
   "metadata": {},
   "outputs": [
    {
     "data": {
      "text/plain": [
       "19"
      ]
     },
     "execution_count": 35,
     "metadata": {},
     "output_type": "execute_result"
    }
   ],
   "source": [
    "A = [[1,2,3],[4,5,6]]\n",
    "len(\", price for stock A\")"
   ]
  },
  {
   "cell_type": "code",
   "execution_count": 52,
   "metadata": {},
   "outputs": [
    {
     "name": "stdout",
     "output_type": "stream",
     "text": [
      "Timestamp: 2022-07-01 11:13:00.745296955\n",
      ", price for stock A:\n",
      "46.70381475969364\n",
      "(1656670380.0, 'A', 46.70381475969364)\n",
      "Timestamp: 2022-07-01 11:13:00.785296955\n",
      ", price for stock A:\n",
      "46.74381475969364\n",
      "(1656670380.0, 'A', 46.74381475969364)\n"
     ]
    }
   ],
   "source": [
    "print(input_to_ts_stock_price(\"Timestamp: 2022-07-01 11:13:00.745296955, price for stock A: 46.70381475969364\"))\n",
    "print(input_to_ts_stock_price(\"Timestamp: 2022-07-01 11:13:00.785296955, price for stock A: 46.74381475969364\"))"
   ]
  },
  {
   "cell_type": "code",
   "execution_count": 53,
   "metadata": {},
   "outputs": [
    {
     "data": {
      "text/plain": [
       "[[1, 2, 3], [4, 5, 6]]"
      ]
     },
     "execution_count": 53,
     "metadata": {},
     "output_type": "execute_result"
    }
   ],
   "source": [
    "A"
   ]
  },
  {
   "cell_type": "code",
   "execution_count": 58,
   "metadata": {},
   "outputs": [],
   "source": [
    "B = np.copy(A)"
   ]
  },
  {
   "cell_type": "code",
   "execution_count": 59,
   "metadata": {},
   "outputs": [
    {
     "data": {
      "text/plain": [
       "array([[1, 2, 3],\n",
       "       [4, 5, 6]])"
      ]
     },
     "execution_count": 59,
     "metadata": {},
     "output_type": "execute_result"
    }
   ],
   "source": [
    "B"
   ]
  },
  {
   "cell_type": "code",
   "execution_count": 60,
   "metadata": {},
   "outputs": [],
   "source": [
    "A[0][0]=0"
   ]
  },
  {
   "cell_type": "code",
   "execution_count": 62,
   "metadata": {},
   "outputs": [
    {
     "data": {
      "text/plain": [
       "array([[1, 2, 3],\n",
       "       [4, 5, 6]])"
      ]
     },
     "execution_count": 62,
     "metadata": {},
     "output_type": "execute_result"
    }
   ],
   "source": [
    "B"
   ]
  },
  {
   "cell_type": "code",
   "execution_count": 63,
   "metadata": {},
   "outputs": [],
   "source": [
    "c = 1"
   ]
  },
  {
   "cell_type": "code",
   "execution_count": 64,
   "metadata": {},
   "outputs": [],
   "source": [
    "d = c"
   ]
  },
  {
   "cell_type": "code",
   "execution_count": 65,
   "metadata": {},
   "outputs": [],
   "source": [
    "c=2"
   ]
  },
  {
   "cell_type": "code",
   "execution_count": 66,
   "metadata": {},
   "outputs": [
    {
     "data": {
      "text/plain": [
       "1"
      ]
     },
     "execution_count": 66,
     "metadata": {},
     "output_type": "execute_result"
    }
   ],
   "source": [
    "d"
   ]
  },
  {
   "cell_type": "code",
   "execution_count": null,
   "metadata": {},
   "outputs": [],
   "source": [
    "def get_profit(m, c, data):\n",
    "    transactions = []\n",
    "    idx = 0\n",
    "    foundA = False\n",
    "    foundB = False\n",
    "    \n",
    "    #check when does the first A appears\n",
    "    while not foundA:\n",
    "        #load the information\n",
    "        last_ts_A, stock_name, last_price_A = input_to_ts_stock_price(data[idx])\n",
    "        \n",
    "        if stock_name == A:\n",
    "            foundA = True\n",
    "        idx+=1\n",
    "\n",
    "\n",
    "    last_price_B = None    \n",
    "    \"\"\"\n",
    "    #check when does the first B appears\n",
    "    while not foundB:\n",
    "        #load the information\n",
    "        last_ts_B, stock_name, last_price_B = input_to_ts_stock_price(data[idx])\n",
    "        \n",
    "        if stock_name == B:\n",
    "            foundB = True\n",
    "        idx+=1\n",
    "    \"\"\"\n",
    "    \n",
    "    \n",
    "    #do the algorithm\n",
    "    while idx < len(data):\n",
    "        \n",
    "        #go until the next A\n",
    "        ts, stock_name, price = input_to_ts_stock_price(data[idx])\n",
    "        \n",
    "        #save the data from the last B\n",
    "        if stock_name == B:\n",
    "            last_ts_B = ts\n",
    "            last_price_B = price\n",
    "        \n",
    "        else: #stock name is A\n",
    "            if abs(price - last_price_A) <= c or last_price_B is None:\n",
    "                idx += 1\n",
    "            else:\n",
    "                #check for the next B\n",
    "                found = False\n",
    "                idxx = 0\n",
    "                idxx = idx\n",
    "                while not found and idxx <= len(data):\n",
    "                    ts, stock_name, price = input_to_ts_stock_price(data[idxx])\n",
    "                    if stock_name ==B:\n",
    "                        if price > last_price_A:\n",
    "                            transactions.append(price-last_price_B)\n",
    "                        else:\n",
    "                            transactions.append(last_price_B-price)\n",
    "                        found = True\n",
    "                    idxx+=1\n",
    "                #if idxx >len(data):\n",
    "            last_price_A = price\n",
    "            last_ts_A = ts\n",
    "        idx+=1\n",
    "    return sum(transactions)\n",
    "                            \n",
    "                        "
   ]
  }
 ],
 "metadata": {
  "kernelspec": {
   "display_name": "Python 3.7.8 64-bit",
   "language": "python",
   "name": "python3"
  },
  "language_info": {
   "codemirror_mode": {
    "name": "ipython",
    "version": 3
   },
   "file_extension": ".py",
   "mimetype": "text/x-python",
   "name": "python",
   "nbconvert_exporter": "python",
   "pygments_lexer": "ipython3",
   "version": "3.7.8"
  },
  "orig_nbformat": 4,
  "vscode": {
   "interpreter": {
    "hash": "188519a1ec8c48a04d503a8f509c1ad13458232ed0f18846c7ab1b03f1f8bf34"
   }
  }
 },
 "nbformat": 4,
 "nbformat_minor": 2
}
