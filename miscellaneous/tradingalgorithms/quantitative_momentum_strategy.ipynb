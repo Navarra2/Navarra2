{
 "cells": [
  {
   "cell_type": "code",
   "execution_count": null,
   "metadata": {},
   "outputs": [],
   "source": [
    "\"\"\"Quantitative Momentum Strategy\"\"\"\n",
    "#\"Momentum Investing means investing in the stocks that have increaser in the price the most\""
   ]
  },
  {
   "cell_type": "code",
   "execution_count": 3,
   "metadata": {},
   "outputs": [],
   "source": [
    "#Library Imports\n",
    "import numpy as np\n",
    "import pandas as pd\n",
    "import requests\n",
    "import math\n",
    "from scipy import stats\n",
    "import xls_writer"
   ]
  },
  {
   "cell_type": "code",
   "execution_count": null,
   "metadata": {},
   "outputs": [],
   "source": [
    "#Importing our List of Stocks\n"
   ]
  }
 ],
 "metadata": {
  "kernelspec": {
   "display_name": "Python 3.7.8 64-bit",
   "language": "python",
   "name": "python3"
  },
  "language_info": {
   "codemirror_mode": {
    "name": "ipython",
    "version": 3
   },
   "file_extension": ".py",
   "mimetype": "text/x-python",
   "name": "python",
   "nbconvert_exporter": "python",
   "pygments_lexer": "ipython3",
   "version": "3.7.8"
  },
  "orig_nbformat": 4,
  "vscode": {
   "interpreter": {
    "hash": "188519a1ec8c48a04d503a8f509c1ad13458232ed0f18846c7ab1b03f1f8bf34"
   }
  }
 },
 "nbformat": 4,
 "nbformat_minor": 2
}
